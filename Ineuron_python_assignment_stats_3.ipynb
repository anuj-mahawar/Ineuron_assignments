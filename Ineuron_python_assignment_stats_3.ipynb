{
 "cells": [
  {
   "cell_type": "markdown",
   "metadata": {},
   "source": [
    "## Problem Statement 1:\n",
    "Blood glucose levels for obese patients have a mean of 100 with a standard deviation of 15. A researcher thinks that a diet high in raw corn starch will have a positive effect on blood glucose levels. A sample of 36 patients who have tried the raw cornstarch diet have a mean glucose level of 108. Test the hypothesis that the raw corn starch had an\n",
    "effect or not."
   ]
  },
  {
   "cell_type": "markdown",
   "metadata": {},
   "source": [
    "- `Null Hypotheses` **H0:𝜇 = 100**\n",
    "- `Alternate Hypotheses` **H1:𝜇 > 100**"
   ]
  },
  {
   "cell_type": "code",
   "execution_count": 12,
   "metadata": {},
   "outputs": [],
   "source": [
    "import numpy as np\n",
    "from scipy import stats"
   ]
  },
  {
   "cell_type": "code",
   "execution_count": 13,
   "metadata": {},
   "outputs": [],
   "source": [
    "def z_statistics(n,sample_mean,pop_mean,pop_std_dev):\n",
    "    std_error = pop_std_dev/np.sqrt(n)\n",
    "    z_statistic = (sample_mean - pop_mean)/std_error\n",
    "    return z_statistic"
   ]
  },
  {
   "cell_type": "code",
   "execution_count": 14,
   "metadata": {},
   "outputs": [],
   "source": [
    "def hypotheses_decision(z_stats,z_critical):\n",
    "    if np.absolute(z_stats) >= np.positive(z_critical):\n",
    "        return \"Null Hypotheses is Rejected\"\n",
    "    else:\n",
    "        return \"Null Hypotheses is Accepted\""
   ]
  },
  {
   "cell_type": "code",
   "execution_count": 18,
   "metadata": {},
   "outputs": [],
   "source": [
    "## to find the 1-sided critical z_value\n",
    "def one_sided_z_test(alpha):\n",
    "    z_alpha = 1 - alpha\n",
    "    z_critical = stats.norm.ppf(z_alpha)\n",
    "    return round(z_critical,3)"
   ]
  },
  {
   "cell_type": "code",
   "execution_count": 15,
   "metadata": {},
   "outputs": [],
   "source": [
    "## to find the 2-sided critical z_value\n",
    "def two_sided_z_test(alpha):\n",
    "    z_alpha = 1 - (alpha/2)\n",
    "    z_critical = stats.norm.ppf(z_alpha)\n",
    "    return round(z_critical,3)"
   ]
  },
  {
   "cell_type": "code",
   "execution_count": 19,
   "metadata": {},
   "outputs": [
    {
     "name": "stdout",
     "output_type": "stream",
     "text": [
      "Z_Stats:  3.2\n",
      "----------------\n",
      "Z_Critical:  1.645\n",
      "----------------\n"
     ]
    },
    {
     "data": {
      "text/plain": [
       "'Null Hypotheses is Rejected'"
      ]
     },
     "execution_count": 19,
     "metadata": {},
     "output_type": "execute_result"
    }
   ],
   "source": [
    "pop_mean = 100\n",
    "pop_std_dev = 15\n",
    "n = 36\n",
    "sam_mean = 108\n",
    "alpha = 0.05\n",
    "z_stats = z_statistics(n,sam_mean,pop_mean,pop_std_dev)\n",
    "print(\"Z_Stats: \",z_stats)\n",
    "print('----------------')\n",
    "z_critical = one_sided_z_test(alpha)\n",
    "print(\"Z_Critical: \",z_critical)\n",
    "print('----------------')\n",
    "hypotheses_decision(z_stats,z_critical)"
   ]
  },
  {
   "cell_type": "markdown",
   "metadata": {},
   "source": [
    "**It infers that raw corn starch does have an effect on Blood Glucose Level as it Increases the level**"
   ]
  },
  {
   "cell_type": "markdown",
   "metadata": {},
   "source": [
    "## Problem Statement 2:\n",
    "In one state, 52% of the voters are Republicans, and 48% are Democrats. In a second state, 47% of the voters are Republicans, and 53% are Democrats. Suppose a simple random sample of 100 voters are surveyed from each state.\n",
    "What is the probability that the survey will show a greater percentage of Republican voters in the second state than in the first state?"
   ]
  },
  {
   "cell_type": "code",
   "execution_count": 30,
   "metadata": {},
   "outputs": [
    {
     "name": "stdout",
     "output_type": "stream",
     "text": [
      "------------------\n",
      "Z_Test:  -0.7080278164104213\n",
      "------------------\n",
      "Z_Critical:  1.645\n",
      "-------------\n",
      "Probability that the survey will show a greater percentage of Republican voters in the second state than in the first state:  0.24\n"
     ]
    }
   ],
   "source": [
    "p1 = 0.52\n",
    "## 1-p1 = 0.48\n",
    "p2 = 0.47\n",
    "## 1-p2 = 0.53\n",
    "d = 0.00\n",
    "n1 = 100\n",
    "n2 = 100\n",
    "z_test = (d -(p1-p2))/np.sqrt((p1*(1-p1)/n1) + (p2*(1-p2)/n2))\n",
    "print('------------------')\n",
    "print(\"Z_Test: \",z_test)\n",
    "print('------------------')\n",
    "alpha = 0.05\n",
    "z_critical = one_sided_z_test(alpha)\n",
    "print(\"Z_Critical: \",z_critical)\n",
    "print('-------------')\n",
    "prob = stats.norm.cdf(z_test)\n",
    "print('Probability that the survey will show a greater percentage of Republican voters in the second state than in the first state: ',round(prob,2))"
   ]
  },
  {
   "cell_type": "markdown",
   "metadata": {},
   "source": [
    "## Problem Statement 3:\n",
    "You take the SAT and score 1100. The mean score for the SAT is 1026 and the standard deviation is 209. How well did you score on the test compared to the average test taker?"
   ]
  },
  {
   "cell_type": "code",
   "execution_count": 40,
   "metadata": {},
   "outputs": [
    {
     "name": "stdout",
     "output_type": "stream",
     "text": [
      "Z_Stats:  0.35406698564593303\n",
      "----------------\n",
      "I scored almost 64.0 % well than others\n"
     ]
    }
   ],
   "source": [
    "pop_mean = 1026\n",
    "pop_std_dev = 209\n",
    "sam_mean = 1100\n",
    "z_stats = (sam_mean - pop_mean) / pop_std_dev\n",
    "print(\"Z_Stats: \",z_stats)\n",
    "print('----------------')\n",
    "prob = stats.norm.cdf(z_stats)\n",
    "print('I scored almost',round(prob,2)*100,'% well than others')"
   ]
  }
 ],
 "metadata": {
  "kernelspec": {
   "display_name": "Python 3",
   "language": "python",
   "name": "python3"
  },
  "language_info": {
   "codemirror_mode": {
    "name": "ipython",
    "version": 3
   },
   "file_extension": ".py",
   "mimetype": "text/x-python",
   "name": "python",
   "nbconvert_exporter": "python",
   "pygments_lexer": "ipython3",
   "version": "3.8.5"
  }
 },
 "nbformat": 4,
 "nbformat_minor": 4
}
