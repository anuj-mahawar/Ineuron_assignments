{
 "cells": [
  {
   "cell_type": "markdown",
   "metadata": {},
   "source": [
    "## Problem Statement 1:"
   ]
  },
  {
   "cell_type": "markdown",
   "metadata": {},
   "source": [
    "## Write a function so that the columns of the output matrix are powers of the input vector. The order of the powers is determined by the increasing boolean argument. Specifically, when increasing is False, the i-th output column is the input vector raised element-wise to the power of N - i - 1. Such a matrix with a geometric progression in each row is named for Alexandre-Theophile Vandermonde."
   ]
  },
  {
   "cell_type": "code",
   "execution_count": 25,
   "metadata": {},
   "outputs": [],
   "source": [
    "import numpy as np\n",
    "\n",
    "def gen_vander_matrix(iparray,n,increasing=False):\n",
    "    \n",
    "    if not increasing:\n",
    "        op_matrix = np.array([x**(n-i-1) for x in iparray for i in range(n)])\n",
    "        op_matrix = op_matrix.reshape(iparray.size,n)\n",
    "    elif increasing:\n",
    "        op_matrix = np.array([x**i for x in iparray for i in range(n)])\n",
    "        op_matrix = op_matrix.reshape(iparray.size,n)\n",
    "    return op_matrix"
   ]
  },
  {
   "cell_type": "code",
   "execution_count": 26,
   "metadata": {},
   "outputs": [
    {
     "name": "stdout",
     "output_type": "stream",
     "text": [
      "Input array is : [3 5 7 2 8]\n",
      "Number of columns in output matrix should be: 4 \n",
      "\n",
      "Vander matrix of the input array in decreasing order of powers:\n",
      "\n",
      " [[ 27   9   3   1]\n",
      " [125  25   5   1]\n",
      " [343  49   7   1]\n",
      " [  8   4   2   1]\n",
      " [512  64   8   1]] \n",
      "\n",
      "Vander matrix of the input array in increasing order of powers:\n",
      "\n",
      " [[  1   3   9  27]\n",
      " [  1   5  25 125]\n",
      " [  1   7  49 343]\n",
      " [  1   2   4   8]\n",
      " [  1   8  64 512]] \n",
      "\n"
     ]
    }
   ],
   "source": [
    "import numpy as np\n",
    "\n",
    "x = np.array([3, 5, 7, 2, 8] )\n",
    "no_of_output_columns = 4\n",
    "\n",
    "op_matx_desc_order = gen_vander_matrix(x,4,False)\n",
    "op_matx_asc_order  =  gen_vander_matrix(x,4,True)\n",
    "\n",
    "print('Input array is :', x)\n",
    "print(\"Number of columns in output matrix should be:\",no_of_output_columns,\"\\n\")\n",
    "print(\"Vander matrix of the input array in decreasing order of powers:\\n\\n\",op_matx_desc_order,\"\\n\")\n",
    "print(\"Vander matrix of the input array in increasing order of powers:\\n\\n\",op_matx_asc_order,\"\\n\")"
   ]
  },
  {
   "cell_type": "markdown",
   "metadata": {},
   "source": [
    "### Problem Statement 2:\n",
    "'''\n",
    "Given a sequence of n values x1, x2, ..., xn and a window size k>0, the k-th moving average of\n",
    "the given sequence is defined as follows:\n",
    "The moving average sequence has n-k+1 elements as shown below.\n",
    "The moving averages with k=4 of a ten-value sequence (n=10) is shown below\n",
    "i 1 2 3 4 5 6 7 8 9 10\n",
    "===== == == == == == == == == == ==\n",
    "Input 10 20 30 40 50 60 70 80 90 100\n",
    "y1 25 = (10+20+30+40)/4\n",
    "y2 35 = (20+30+40+50)/4\n",
    "y3 45 = (30+40+50+60)/4\n",
    "y4 55 = (40+50+60+70)/4\n",
    "y5 65 = (50+60+70+80)/4\n",
    "y6 75 = (60+70+80+90)/4\n",
    "y7 85 = (70+80+90+100)/4\n",
    "Thus, the moving average sequence has n-k+1=10-4+1=7 values.\n",
    "\n",
    "Question: Write a function to find moving average in an array over a window:\n",
    "Test it over [3, 5, 7, 2, 8, 10, 11, 65, 72, 81, 99, 100, 150] and window of 3.\n",
    "'''"
   ]
  },
  {
   "cell_type": "code",
   "execution_count": 27,
   "metadata": {},
   "outputs": [],
   "source": [
    "def moving_average(input_array,k):\n",
    "    n = len(input_array)\n",
    "    l = []\n",
    "    for i in range(0,n-k+1):\n",
    "        val = np.sum(input_array[i:i+k])/k\n",
    "        l.append(val)\n",
    "    return np.array(l)\n",
    "    "
   ]
  },
  {
   "cell_type": "code",
   "execution_count": 28,
   "metadata": {},
   "outputs": [
    {
     "name": "stdout",
     "output_type": "stream",
     "text": [
      "[5.         4.66666667 5.66666667]\n"
     ]
    }
   ],
   "source": [
    "import numpy as np\n",
    "\n",
    "x = np.array([3, 5, 7, 2, 8] )\n",
    "x\n",
    "print(moving_average(x,3))"
   ]
  },
  {
   "cell_type": "code",
   "execution_count": 29,
   "metadata": {},
   "outputs": [
    {
     "name": "stdout",
     "output_type": "stream",
     "text": [
      "[25. 35. 45. 55. 65. 75. 85.]\n"
     ]
    }
   ],
   "source": [
    "## Another Test\n",
    "y = np.array([10,20,30,40,50,60,70,80,90,100])\n",
    "\n",
    "print(moving_average(y,4))"
   ]
  },
  {
   "cell_type": "code",
   "execution_count": 33,
   "metadata": {},
   "outputs": [
    {
     "name": "stdout",
     "output_type": "stream",
     "text": [
      "[25. 35. 45. 55. 65. 75. 85.]\n"
     ]
    }
   ],
   "source": [
    "## Another Solution\n",
    "\n",
    "import numpy as np\n",
    "def moving_average(a, n=3) :\n",
    "#     print('a:',a)\n",
    "#     print('n:',n)\n",
    "    ret = np.cumsum(a, dtype=float)\n",
    "#     print(ret)\n",
    "#     print(ret[n:])\n",
    "#     print(ret[:-n])\n",
    "    ret[n:] = ret[n:] - ret[:-n]\n",
    "#     print('ret:',ret)\n",
    "#     print(ret[n:])\n",
    "    return ret[n - 1:] / n\n",
    "a = [10,20,30,40,50,60,70,80,90,100]\n",
    "print(moving_average(a, n=4))"
   ]
  },
  {
   "cell_type": "markdown",
   "metadata": {},
   "source": []
  }
 ],
 "metadata": {
  "kernelspec": {
   "display_name": "Python 3",
   "language": "python",
   "name": "python3"
  },
  "language_info": {
   "codemirror_mode": {
    "name": "ipython",
    "version": 3
   },
   "file_extension": ".py",
   "mimetype": "text/x-python",
   "name": "python",
   "nbconvert_exporter": "python",
   "pygments_lexer": "ipython3",
   "version": "3.8.3"
  }
 },
 "nbformat": 4,
 "nbformat_minor": 4
}
