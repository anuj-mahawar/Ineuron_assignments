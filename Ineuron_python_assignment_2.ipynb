{
 "cells": [
  {
   "cell_type": "markdown",
   "metadata": {},
   "source": [
    "### Q1\n",
    "\n",
    "- Create the below pattern using nested for loop in Python.\n",
    "\n",
    "* <br/>\n",
    "*<br/>\n",
    "** <br/>\n",
    "***<br/>\n",
    "****<br/>\n",
    "*****<br/>\n",
    "****<br/>\n",
    "***<br/>\n",
    "**<br/>\n",
    "*<br/>\n",
    "\n"
   ]
  },
  {
   "cell_type": "code",
   "execution_count": 25,
   "metadata": {},
   "outputs": [
    {
     "name": "stdout",
     "output_type": "stream",
     "text": [
      "* \n",
      "* * \n",
      "* * * \n",
      "* * * * \n",
      "* * * * * \n",
      "* * * * \n",
      "* * * \n",
      "* * \n",
      "* \n"
     ]
    }
   ],
   "source": [
    "for i in range(1,10):\n",
    "    if i  > 5 :\n",
    "        #print('here')\n",
    "        for j in range(0,10-i):\n",
    "            print('*',end=\" \")\n",
    "    else :\n",
    "        #print('there')\n",
    "        for j in range(0,i):\n",
    "            print('*',end=\" \")\n",
    "    print()\n",
    "    "
   ]
  },
  {
   "cell_type": "markdown",
   "metadata": {},
   "source": [
    "### Q2\n",
    "- Write a Python program to reverse a word after accepting the input from the user."
   ]
  },
  {
   "cell_type": "code",
   "execution_count": 35,
   "metadata": {},
   "outputs": [
    {
     "name": "stdout",
     "output_type": "stream",
     "text": [
      "Please enter a string: ineuron\n",
      "Output: norueni\n"
     ]
    }
   ],
   "source": [
    "user_input = str(input('Please enter a string: '))\n",
    "output = \"\"\n",
    "for char in user_input:\n",
    "    output = char + output\n",
    "print(f'Output: {output}')"
   ]
  }
 ],
 "metadata": {
  "kernelspec": {
   "display_name": "Python 3",
   "language": "python",
   "name": "python3"
  },
  "language_info": {
   "codemirror_mode": {
    "name": "ipython",
    "version": 3
   },
   "file_extension": ".py",
   "mimetype": "text/x-python",
   "name": "python",
   "nbconvert_exporter": "python",
   "pygments_lexer": "ipython3",
   "version": "3.7.5"
  }
 },
 "nbformat": 4,
 "nbformat_minor": 4
}
