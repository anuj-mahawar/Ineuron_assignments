{
 "cells": [
  {
   "cell_type": "markdown",
   "metadata": {},
   "source": [
    "## Calculate the mean, median, mode and standard deviation for the problem statements 1& 2.\n",
    "### Problem Statement 1:\n",
    "- The marks awarded for an assignment set for a Year 8 class of 20 students were as follows:\n",
    "  6 7 5 7 7 8 7 6 9 7 4 10 6 8 8 9 5 6 4 8"
   ]
  },
  {
   "cell_type": "code",
   "execution_count": 93,
   "metadata": {},
   "outputs": [],
   "source": [
    "import numpy as np\n",
    "import pandas as pd\n",
    "import matplotlib.pyplot as plt\n",
    "import scipy.stats as stats\n",
    "%matplotlib inline\n",
    "import math\n",
    "import seaborn as sns\n"
   ]
  },
  {
   "cell_type": "code",
   "execution_count": 2,
   "metadata": {},
   "outputs": [
    {
     "name": "stdout",
     "output_type": "stream",
     "text": [
      "[ 6  7  5  7  7  8  7  6  9  7  4 10  6  8  8  9  5  6  4  8]\n"
     ]
    }
   ],
   "source": [
    "a =  np.array([6,7,5,7,7,8,7,6,9,7,4,10,6,8,8,9,5,6,4,8])\n",
    "print(a)"
   ]
  },
  {
   "cell_type": "code",
   "execution_count": 27,
   "metadata": {},
   "outputs": [
    {
     "name": "stdout",
     "output_type": "stream",
     "text": [
      "Mean :  6.85\n",
      "Median :  7.0\n",
      "Mode :  7\n",
      "Standard Deviation :  1.5898113095584647\n"
     ]
    }
   ],
   "source": [
    "print(\"Mean : \",np.mean(a))\n",
    "print(\"Median : \",np.median(a))\n",
    "print(\"Mode : \", np.bincount(a).argmax())\n",
    "print(\"Standard Deviation : \",np.std(a))"
   ]
  },
  {
   "cell_type": "markdown",
   "metadata": {},
   "source": [
    "#### Problem Statement 2:\n",
    "- The number of calls from motorists per day for roadside service was recorded for a particular month:\n",
    "28, 122, 217, 130, 120, 86, 80, 90, 140, 120, 70, 40, 145, 113, 90, 68, 174, 194, 170,\n",
    "100, 75, 104, 97, 75,\n",
    "123, 100, 75, 104, 97, 75, 123, 100, 89, 120, 109"
   ]
  },
  {
   "cell_type": "code",
   "execution_count": 5,
   "metadata": {},
   "outputs": [
    {
     "data": {
      "text/plain": [
       "array([ 28, 122, 217, 130, 120,  86,  80,  90, 140, 120,  70,  40, 145,\n",
       "       113,  90,  68, 174, 194, 170, 100,  75, 104,  97,  75, 123, 100,\n",
       "        75, 104,  97,  75, 123, 100,  89, 120, 109])"
      ]
     },
     "execution_count": 5,
     "metadata": {},
     "output_type": "execute_result"
    }
   ],
   "source": [
    "b = np.array([28, 122, 217, 130, 120, 86, 80, 90, 140, 120, 70, 40, 145, 113, 90, 68, 174, 194, 170, 100, 75, 104, 97, 75, 123, 100, 75, 104, 97, 75, 123, 100, 89, 120, 109])\n",
    "\n",
    "b"
   ]
  },
  {
   "cell_type": "code",
   "execution_count": 26,
   "metadata": {},
   "outputs": [
    {
     "name": "stdout",
     "output_type": "stream",
     "text": [
      "Mean :  107.51428571428572\n",
      "Median :  100.0\n",
      "Mode :  75\n",
      "Standard Deviation :  38.77287080168403\n"
     ]
    }
   ],
   "source": [
    "print(\"Mean : \",np.mean(b))\n",
    "print(\"Median : \",np.median(b))\n",
    "print(\"Mode : \", np.bincount(b).argmax())\n",
    "print(\"Standard Deviation : \",np.std(b))"
   ]
  },
  {
   "cell_type": "markdown",
   "metadata": {},
   "source": [
    "#### Problem Statement 3:\n",
    "- The number of times I go to the gym in weekdays, are given below along with its associated probability<br/>\n",
    "x = 0, 1, 2, 3, 4, 5 <br/>\n",
    "f(x) = 0.09, 0.15, 0.40, 0.25, 0.10, 0.01\n",
    "<br/>\n",
    "**Calculate the mean no. of workouts in a week. Also evaluate the variance involved in\n",
    "it**"
   ]
  },
  {
   "cell_type": "code",
   "execution_count": 14,
   "metadata": {},
   "outputs": [
    {
     "name": "stdout",
     "output_type": "stream",
     "text": [
      "No. of days:  [0 1 2 3 4 5]\n",
      "Probability:  [0.09 0.15 0.4  0.25 0.1  0.01]\n"
     ]
    }
   ],
   "source": [
    "x = np.array([0, 1, 2, 3, 4, 5])\n",
    "f_x = np.array([0.09, 0.15, 0.40, 0.25, 0.10, 0.01])\n",
    "print(\"No. of days: \",x)\n",
    "print(\"Probability: \",f_x)"
   ]
  },
  {
   "cell_type": "code",
   "execution_count": 25,
   "metadata": {},
   "outputs": [
    {
     "name": "stdout",
     "output_type": "stream",
     "text": [
      "Mean no. of workouts:  2.15\n",
      "Variance is :  1.2275\n"
     ]
    }
   ],
   "source": [
    "mean = sum([float(x[i]) * f_x[i] for i in range(len(x))])\n",
    "var = sum([((float(x[i]-mean)**2) * f_x[i]) for i in range(len(x))])\n",
    "print(\"Mean no. of workouts: \",mean)\n",
    "print(\"Variance is : \",var)"
   ]
  },
  {
   "cell_type": "markdown",
   "metadata": {},
   "source": [
    "### Problem Statement 4:\n",
    "- Let the continuous random variable D denote the diameter of the hole drilled in an aluminum sheet. The target diameter to be achieved is 12.5mm. Random disturbances in the process often result in inaccuracy.</br>\n",
    "- Historical data shows that the distribution of D can be modelled by the </br> PDF (𝑑) = 20𝑒−20(𝑑−12.5), 𝑑 ≥ 12.5. </br>\n",
    "- If a part with diameter > 12.6 mm needs to be scrapped, what is the proportion of those parts?</br> \n",
    "- What proportion of parts is between 12.5 and 12.6 millimeters?\n",
    "- What is the CDF when the diameter is of 11 mm? \n",
    "- What is your conclusion regarding the proportion of scraps?"
   ]
  },
  {
   "cell_type": "code",
   "execution_count": null,
   "metadata": {},
   "outputs": [],
   "source": [
    "from scipy.integrate import quad"
   ]
  },
  {
   "cell_type": "code",
   "execution_count": 47,
   "metadata": {},
   "outputs": [
    {
     "name": "stdout",
     "output_type": "stream",
     "text": [
      "The proportion of the parts with diameter greater than 12.6mm is: 0.13533528323661398\n",
      "The proportion of the parts between 12.5 and 12.6 is: 0.8646647167633718\n",
      "Total proportion:  1.0\n",
      "As we can see that the sum of the proportion of the parts between 12.5mm and 12.6mm and proportion of the parts greater than   12.6mm is: 1,which signifies that the proportion is 0 if the diameter is less that 12.5mm\n"
     ]
    }
   ],
   "source": [
    "def pdf(d):\n",
    "    return (20*np.exp(-20*(d-12.5)))\n",
    "part_scrapped = quad(pdf,a=12.6,b=np.inf)[0]\n",
    "print(\"The proportion of the parts with diameter greater than 12.6mm is:\",part_scrapped)\n",
    "proportion_between = quad(pdf,a=12.5,b=12.6)[0]\n",
    "print(\"The proportion of the parts between 12.5 and 12.6 is:\",proportion_between)\n",
    "print(\"Total proportion: \",round(part_scrapped + proportion_between,2))\n",
    "print(\"As we can see that the sum of the proportion of the parts between 12.5mm and 12.6mm and proportion of the parts greater than   12.6mm is: 1,\"\n",
    "      \"which signifies that the proportion is 0 if the diameter is less that 12.5mm\")"
   ]
  },
  {
   "cell_type": "markdown",
   "metadata": {},
   "source": [
    "### Problem Statement 5:\n",
    "- A company manufactures LED bulbs with a faulty rate of 30%. If I randomly select 6 chosen LEDs, what is the probability of having 2 faulty LEDs in my sample? Calculate the average value of this process. Also evaluate the standard deviation associated with it."
   ]
  },
  {
   "cell_type": "code",
   "execution_count": 65,
   "metadata": {},
   "outputs": [
    {
     "name": "stdout",
     "output_type": "stream",
     "text": [
      "The probability of having 2 faulty LEDs in the sample is : 0.32\n",
      "Mean of this process : 1.8\n",
      "Standard Deviation: 1.12\n"
     ]
    }
   ],
   "source": [
    "import scipy.special as ss\n",
    "def prob_binomial_dis(n,y,p):\n",
    "    n_C_y = ss.binom(n,y)\n",
    "    q = 1-p\n",
    "    \n",
    "    return (n_C_y*(p**y)*(q**(n-y)))\n",
    "\n",
    "faulty = 0.3\n",
    "accurate = 1- faulty\n",
    "# faulty bulbs imply success \n",
    "total_leds = 6\n",
    "faulty_leds = 2\n",
    "y = prob_binomial_dis(total_leds , faulty_leds, faulty) \n",
    "print(\"The probability of having 2 faulty LEDs in the sample is :\",np.round(y,2))\n",
    "print(\"Mean of this process :\",round(total_leds*faulty,2))\n",
    "print(\"Standard Deviation:\",round(np.sqrt(total_leds*faulty*accurate),2))"
   ]
  },
  {
   "cell_type": "markdown",
   "metadata": {},
   "source": [
    "### Problem Statement 6:\n",
    "- Gaurav and Barakha are both preparing for entrance exams. Gaurav attempts to solve 8 questions per day with a correction rate of 75%, while Barakha averages around 12 questions per day with a correction rate of 45%. What is the probability that each of them will solve 5 questions correctly? What happens in cases of 4 and 6 correct solutions? What do you infer from it? What are the two main governing factors affecting their ability to solve questions correctly? Give a pictorial representation of the same to validate your answer."
   ]
  },
  {
   "cell_type": "code",
   "execution_count": 92,
   "metadata": {},
   "outputs": [
    {
     "name": "stdout",
     "output_type": "stream",
     "text": [
      "Probability that each of them will solve 5 questions correctly : 0.046199890572992175\n",
      "Probability that each of them will solve 4 questions correctly : 0.014704826281913018\n",
      "Probability that each of them will solve 6 questions correctly : 0.0661498433204206\n"
     ]
    },
    {
     "data": {
      "image/png": "[encoded data removed]",
      "text/plain": [
       "<Figure size 432x288 with 1 Axes>"
      ]
     },
     "metadata": {
      "needs_background": "light"
     },
     "output_type": "display_data"
    }
   ],
   "source": [
    "\n",
    "g_correction = 0.75\n",
    "b_correction = 0.45\n",
    "g_n = 8\n",
    "b_n = 12\n",
    "## using prob_binomial_dis function defined in prob statement 5:\n",
    "x = prob_binomial_dis(g_n,5,g_correction)\n",
    "y = prob_binomial_dis(b_n,5,b_correction)\n",
    "\n",
    "probability_5_question = prob_binomial_dis(g_n,5,g_correction) * prob_binomial_dis(b_n,5,b_correction)\n",
    "print(\"Probability that each of them will solve 5 questions correctly :\",probability_5_question)\n",
    "probability_4_question = prob_binomial_dis(g_n,4,g_correction) * prob_binomial_dis(b_n,4,b_correction)\n",
    "print(\"Probability that each of them will solve 4 questions correctly :\",probability_4_question)\n",
    "probability_6_question = prob_binomial_dis(g_n,6,g_correction) * prob_binomial_dis(b_n,6,b_correction)\n",
    "print(\"Probability that each of them will solve 6 questions correctly :\",probability_6_question)\n",
    "correct_solution = [4,5,6]\n",
    "probab = [probability_4_question,probability_5_question,probability_6_question]\n",
    "\n",
    "fig = plt.figure(figsize=(6,4))\n",
    "plt.title('Probabilities for Solving per Correct Solutions')\n",
    "plt.xlabel('Number of questions solved correctly')\n",
    "plt.ylabel('Probability of solving')\n",
    "plt.bar(correct_solution,probab)\n",
    "plt.show()"
   ]
  },
  {
   "cell_type": "markdown",
   "metadata": {},
   "source": [
    "Inference : As the no. of questions solved correctly increases,the probability of solving per correct solutions for Barkha and Gaurav also increases"
   ]
  },
  {
   "cell_type": "markdown",
   "metadata": {},
   "source": [
    "#### Problem Statement 7:\n",
    "- Customers arrive at a rate of 72 per hour to my shop. What is the probability of 𝑘 customers arriving in 4 minutes? a) 5 customers, b) not more than 3 customers, c)more than 3 customers. Give a pictorial representation of the same to validate your answer."
   ]
  },
  {
   "cell_type": "code",
   "execution_count": 118,
   "metadata": {},
   "outputs": [
    {
     "name": "stdout",
     "output_type": "stream",
     "text": [
      "Probability of 5 customers in 4 minutes: 0.17474768364388296\n",
      "Probability of Not more than 3 customers in 4 minutes: 0.29422991649656405\n",
      "Probability of more than 3 customers in 4 minutes: 0.705770083503436\n",
      "Probability of 8 customers in 4 minutes: 0.057516951873643696\n"
     ]
    },
    {
     "name": "stderr",
     "output_type": "stream",
     "text": [
      "C:\\Users\\anuj_mahawar\\Anaconda3\\lib\\site-packages\\seaborn\\distributions.py:2551: FutureWarning: `distplot` is a deprecated function and will be removed in a future version. Please adapt your code to use either `displot` (a figure-level function with similar flexibility) or `histplot` (an axes-level function for histograms).\n",
      "  warnings.warn(msg, FutureWarning)\n"
     ]
    },
    {
     "data": {
      "image/png": "[encoded data removed]",
      "text/plain": [
       "<Figure size 432x288 with 1 Axes>"
      ]
     },
     "metadata": {
      "needs_background": "light"
     },
     "output_type": "display_data"
    }
   ],
   "source": [
    "## This problem is having a time interval, hence poisson distribution will be apt\n",
    "\n",
    "poi_lambda = (72/60)*4\n",
    "a = stats.poisson.pmf(5,poi_lambda)\n",
    "print(\"Probability of 5 customers in 4 minutes:\",a) \n",
    "b = stats.poisson.pmf(0,poi_lambda) + stats.poisson.pmf(1,poi_lambda) + stats.poisson.pmf(2,poi_lambda) + stats.poisson.pmf(3,poi_lambda)\n",
    "print(\"Probability of Not more than 3 customers in 4 minutes:\",b)\n",
    "c = 1-b\n",
    "print(\"Probability of more than 3 customers in 4 minutes:\",c)\n",
    "d = stats.poisson.pmf(8,poi_lambda)\n",
    "print(\"Probability of 8 customers in 4 minutes:\",d) \n",
    "\n",
    "\n",
    "poison_dist = stats.poisson.rvs(mu=poi_lambda, size=200)\n",
    "\n",
    "ax = sns.distplot(poison_dist)\n",
    "ax.set(xlabel='Customers per 4 minutes', ylabel='Probability')\n",
    "plt.title('Poisson distribution')\n",
    "plt.show()"
   ]
  },
  {
   "cell_type": "markdown",
   "metadata": {},
   "source": [
    "### Problem Statement 8:\n",
    "- I work as a data analyst in Aeon Learning Pvt. Ltd. After analyzing data, I make reports, where I have the efficiency of entering 77 words per minute with 6 errors per hour. What is the probability that I will commit 2 errors in a 455-word financial report? What happens when the no. of words increases/decreases (in case of 1000 words, 255 words)?How is the 𝜆 affected? How does it influence the PMF? Give a pictorial representation of the same to validate your answer."
   ]
  },
  {
   "cell_type": "code",
   "execution_count": 152,
   "metadata": {},
   "outputs": [
    {
     "name": "stdout",
     "output_type": "stream",
     "text": [
      "A's lambda: 0.5909090909090909\n",
      "probability to commit 2 errors in a 455-word financial report:  0.09669027375144444\n",
      "B's lambda: 1.2987012987012987\n",
      "probability to commit 2 errors in a 1000-word financial report:  0.23012815007300153\n",
      "C's lambda: 0.3311688311688312\n",
      "probability to commit 2 errors in a 255-word financial report:  0.039377135392854125\n",
      "Inference : As the no. of word increases,lambda increases,peak decreases and so the probability to commit 2 errors increases as the area under the curve increases\n"
     ]
    },
    {
     "data": {
      "image/png": "[encoded data removed]",
      "text/plain": [
       "<Figure size 576x432 with 1 Axes>"
      ]
     },
     "metadata": {
      "needs_background": "light"
     },
     "output_type": "display_data"
    }
   ],
   "source": [
    "error_rate_per_minute = 6/60 \n",
    "efficiency_rate_per_minute = 77 \n",
    "time_taken_for_455_words = 455/efficiency_rate_per_minute\n",
    "lambda_455_word = time_taken_for_455_words * error_rate_per_minute\n",
    "print(\"A's lambda:\",lambda_455_word)\n",
    "a = stats.poisson.pmf(2,lambda_455_word)\n",
    "print(\"probability to commit 2 errors in a 455-word financial report: \",a)\n",
    "lambda_1000_word = (1000/efficiency_rate_per_minute)*error_rate_per_minute\n",
    "print(\"B's lambda:\",lambda_1000_word)\n",
    "b = stats.poisson.pmf(2,lambda_1000_word)\n",
    "print(\"probability to commit 2 errors in a 1000-word financial report: \",b)\n",
    "lambda_255_word = (255/efficiency_rate_per_minute)*error_rate_per_minute\n",
    "print(\"C's lambda:\",lambda_255_word)\n",
    "c = stats.poisson.pmf(2,lambda_255_word)\n",
    "print(\"probability to commit 2 errors in a 255-word financial report: \",c)\n",
    "print(\"Inference : As the no. of word increases,lambda increases,peak decreases and so the probability to commit 2 errors increases as the area under the curve increases\")\n",
    "\n",
    "fig = plt.figure(figsize=(8, 6))\n",
    "x = np.arange(0,10)\n",
    "plt.plot(x, stats.poisson.pmf(x, lambda_255_word), 'r--', label='λ: 0.33')\n",
    "plt.plot(x, stats.poisson.pmf(x, lambda_455_word), 'g--', label='λ: 0.59')\n",
    "plt.plot(x, stats.poisson.pmf(x, lambda_1000_word), 'b--', label='λ: 1.299')\n",
    "\n",
    "plt.legend()\n",
    "plt.title('PDF for different lambda')\n",
    "plt.show()"
   ]
  },
  {
   "cell_type": "markdown",
   "metadata": {},
   "source": [
    "#### Problem Statement 9:\n",
    "- Let the continuous random variable D denote the diameter of the hole drilled in an aluminum sheet. The target diameter to be achieved is 12.5mm. Random disturbances in the process often result in inaccuracy.Historical data shows that the distribution of D can be modelled by the PDF, f(d) =20e−20(d−12.5), d ≥ 12.5. If a part with diameter > 12.6 mm needs to be scrapped,what is the proportion of those parts? What is the CDF when the diameter is of 11mm? What is the conclusion of this experiment?\n",
    "##### Solution as problem statement 4"
   ]
  },
  {
   "cell_type": "markdown",
   "metadata": {},
   "source": [
    "#### Problem Statement 10:\n",
    "- Please compute the following:\n",
    "- a) P(Z > 1.26), . P(Z < −0.86), P(Z > −1.37), P(−1.25 < Z < 0.37), . P(Z ≤ −4.6)\n",
    "- b) Find the value 𝑧 such that 𝑃(𝑍 > 𝑧) = 0.05\n",
    "- c) Find the value of 𝑧 such that 𝑃(−𝑧 < 𝑍 < 𝑧) = 0.99"
   ]
  },
  {
   "cell_type": "code",
   "execution_count": 165,
   "metadata": {},
   "outputs": [
    {
     "name": "stdout",
     "output_type": "stream",
     "text": [
      "P(Z > 1.26) :  0.10383468112130045\n",
      "P(Z < −0.86) :  0.1948945212518084\n",
      "P(Z > −1.37) :  0.914656549178033\n",
      "P(−1.25 < Z < 0.37) :  0.5386589811336914\n",
      "P(Z ≤ −4.6) :  2.1124547025028537e-06\n",
      "The value of z such that P(Z>z)=0.05:  1.6448536269514729\n",
      "As Total-probablity=1 ,then 1-0.99=0.01  ,by diving with 2 we get 0.005\n",
      "The value of z such that 𝑃(−𝑧 < 𝑍 < 𝑧) = 0.99:  2.575829303548901\n"
     ]
    }
   ],
   "source": [
    "# a) P(Z > 1.26), . P(Z < −0.86), P(Z > −1.37), P(−1.25 < Z < 0.37), . P(Z ≤ −4.6)\n",
    "\n",
    "print(\"P(Z > 1.26) : \",1-stats.norm.cdf(1.26))\n",
    "print(\"P(Z < −0.86) : \",stats.norm.cdf(-0.86))\n",
    "print(\"P(Z > −1.37) : \",1-stats.norm.cdf(-1.37))\n",
    "print(\"P(−1.25 < Z < 0.37) : \",stats.norm.cdf(0.37)-stats.norm.cdf(-1.25))\n",
    "print(\"P(Z ≤ −4.6) : \",stats.norm.cdf(-4.6))\n",
    "\n",
    "# b) Find the value 𝑧 such that 𝑃(𝑍 > 𝑧) = 0.05\n",
    "print(\"The value of z such that P(Z>z)=0.05: \",stats.norm.isf(0.05))\n",
    "\n",
    "# c) Find the value of 𝑧 such that 𝑃(−𝑧 < 𝑍 < 𝑧) = 0.99\n",
    "# P(Z < z) - P(Z < -z) = 0.99\n",
    "print(\"As Total-probablity=1 ,then 1-0.99=0.01  ,by diving with 2 we get 0.005\")\n",
    "print(\"The value of z such that 𝑃(−𝑧 < 𝑍 < 𝑧) = 0.99: \",stats.norm.isf(0.005) )"
   ]
  },
  {
   "cell_type": "markdown",
   "metadata": {},
   "source": [
    "#### Problem Statement 11:\n",
    "- The current flow in a copper wire follow a normal distribution with a mean of 10 𝑚A and a variance of 4 (𝑚𝐴)2.What is the probability that a current measurement will exceed 13 𝑚𝐴? What is the probability that a current measurement is between 9 and 11mA? Determine the current measurement which has a probability of 0.98."
   ]
  },
  {
   "cell_type": "code",
   "execution_count": 174,
   "metadata": {},
   "outputs": [
    {
     "name": "stdout",
     "output_type": "stream",
     "text": [
      "probability hat a current measurement will exceed 13 mA,p(x>13),\n",
      "p(x>13)=>p(z>1.5)\n",
      "       =>1-p(z<=1.5)\n",
      "probability that a current measurement will exceed 13 𝑚𝐴:  0.06680720126885809\n",
      "--------------------------------\n",
      "probability that a current measurement is between 9 and 11mA,p(9<x<11),\n",
      "p(9<x<13)=>p(-0.5<z<0.5)\n",
      "         =>p(z<0.5)-p(z<-0.5)\n",
      "probability that a current measurement is between 9 and 11mA:  0.38292492254802624\n",
      "--------------------------------\n",
      "The current measurement which has a probability of 0.98 ,\n",
      "From the z-table,we get z value when p(Z<z)=0.98 as 2.05\n",
      "14.1\n",
      "current measurement which has a probability of 0.98:  14.107497821263646\n"
     ]
    }
   ],
   "source": [
    "mean = 10\n",
    "var = 4\n",
    "std = np.sqrt(var)\n",
    "#a) \n",
    "a = (13-10)/std\n",
    "print(\"probability hat a current measurement will exceed 13 mA,p(x>13),\")\n",
    "print(\"p(x>13)=>p(z>1.5)\")\n",
    "print(\"       =>1-p(z<=1.5)\")\n",
    "print(\"probability that a current measurement will exceed 13 𝑚𝐴: \",1-stats.norm.cdf(a))\n",
    "\n",
    "print(\"--------------------------------\")\n",
    "#b)\n",
    "\n",
    "b = (9-10)/std\n",
    "c = (11-10)/std\n",
    "print(\"probability that a current measurement is between 9 and 11mA,p(9<x<11),\")\n",
    "print(\"p(9<x<13)=>p(-0.5<z<0.5)\")\n",
    "print(\"         =>p(z<0.5)-p(z<-0.5)\")\n",
    "print(\"probability that a current measurement is between 9 and 11mA: \",stats.norm.cdf(0.5) - stats.norm.cdf(-0.5))\n",
    "print(\"--------------------------------\")\n",
    "\n",
    "#c) we are asked z when p(Z<z)=0.98\n",
    "print(\"The current measurement which has a probability of 0.98 ,\")\n",
    "print(\"From the z-table,we get z value when p(Z<z)=0.98 as 2.05\")\n",
    "## alternate print(2.05*std+mean)\n",
    "print(\"current measurement which has a probability of 0.98: \",stats.norm.ppf(0.98,mean,std))"
   ]
  },
  {
   "cell_type": "markdown",
   "metadata": {},
   "source": [
    "#### Problem Statement 12:\n",
    "- The shaft in a piston has its diameter normally distributed with a mean of 0.2508 inch and a standard deviation of 0.0005 inch. The specifications of the shaft are 0.2500 ∓ 0.0015 inch. What proportion of shafts are in sync with the specifications? If the process is centered so that the mean is equal to the target value of 0.2500, what proportion of shafts conform to the new specifications? What is your conclusion from this experiment?"
   ]
  },
  {
   "cell_type": "code",
   "execution_count": 180,
   "metadata": {},
   "outputs": [
    {
     "name": "stdout",
     "output_type": "stream",
     "text": [
      "p(-4.6<Z<1.4)=>p(z<1.4)-p(z<-4.6)\n",
      "Proportion of shafts in sync wih the current specifications: 91.92%\n",
      "If the process is centered so that the mean is equal to the target value of 0.2500\n",
      "Proportion of shafts in sync if mean diameter is 0.25: 99.73%\n",
      "Conclusion : When process is centered so that mean = target value the proprortion of shafts that conform to the specifications increased from 92% to 99%\n"
     ]
    }
   ],
   "source": [
    "mu = 0.2508\n",
    "stdeviation = 0.0005\n",
    "l1 = 0.2500 - 0.0015\n",
    "u1 = 0.2500 + 0.0015\n",
    "z_l1 = (l1-mu) /stdeviation\n",
    "z_u1 = (u1-mu)/stdeviation\n",
    "#print(z_l1,z_u1)\n",
    "print(\"p(-4.6<Z<1.4)=>p(z<1.4)-p(z<-4.6)\")\n",
    "prob = stats.norm.cdf(1.4) - stats.norm.cdf(-4.6)\n",
    "print('Proportion of shafts in sync wih the current specifications: {:.2f}%'.format(prob*100))\n",
    "print(\"If the process is centered so that the mean is equal to the target value of 0.2500\")\n",
    "prob1=stats.norm.cdf((u1-0.25)/stdeviation)- stats.norm.cdf((l1-0.25)/stdeviation)\n",
    "print('Proportion of shafts in sync if mean diameter is 0.25: {:.2f}%'.format(prob1*100))\n",
    "print(\"Conclusion : When process is centered so that mean = target value the proprortion of shafts that conform to the specifications increased from 92% to 99%\")"
   ]
  }
 ],
 "metadata": {
  "kernelspec": {
   "display_name": "Python 3",
   "language": "python",
   "name": "python3"
  },
  "language_info": {
   "codemirror_mode": {
    "name": "ipython",
    "version": 3
   },
   "file_extension": ".py",
   "mimetype": "text/x-python",
   "name": "python",
   "nbconvert_exporter": "python",
   "pygments_lexer": "ipython3",
   "version": "3.8.5"
  }
 },
 "nbformat": 4,
 "nbformat_minor": 4
}
