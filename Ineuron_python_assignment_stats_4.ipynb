{
 "cells": [
  {
   "cell_type": "markdown",
   "metadata": {},
   "source": [
    "## Problem Statement 1:\n",
    "Is gender independent of education level? A random sample of 395 people were surveyed and each person was asked to report the highest education level they obtained. The data that resulted from the survey is summarized in the following table:  \n",
    "Question: Are gender and education level dependent at **5%** level of significance?   \n",
    "In other words, given the data collected above, is there a relationship between the gender of an individual and the level of education that they have obtained?"
   ]
  },
  {
   "attachments": {
    "image-2.png": {
     "image/png": "[encoded data removed]"
    }
   },
   "cell_type": "markdown",
   "metadata": {},
   "source": [
    "![image-2.png](attachment:image-2.png)"
   ]
  },
  {
   "cell_type": "markdown",
   "metadata": {},
   "source": [
    "**`Null Hypotheses` H0 : Gender is Independent**  \n",
    "**`Alternate Hypotheses` H1 : Gender is Dependent**"
   ]
  },
  {
   "cell_type": "code",
   "execution_count": 20,
   "metadata": {},
   "outputs": [
    {
     "name": "stdout",
     "output_type": "stream",
     "text": [
      "Chi Square:  8.487498522408528\n"
     ]
    }
   ],
   "source": [
    "import numpy as np\n",
    "from scipy import stats\n",
    "expected_f_HS = round((100*201)/395,3)\n",
    "expected_f_B  = round((98*201)/395,3)\n",
    "expected_f_M  = round((99*201)/395,3)\n",
    "expected_f_PhD= round((98*201)/395,3)\n",
    "expected_m_HS = round((100*194)/395,3)\n",
    "expected_m_B  = round((98*194)/395,3)\n",
    "expected_m_M  = round((99*194)/395,3)\n",
    "expected_m_PhD= round((98*194)/395,3)\n",
    "sum = 0\n",
    "chi_sq = np.power(60-expected_f_HS,2)/expected_f_HS + np.power(54-expected_f_B,2)/expected_f_B + (46-expected_f_M)**2/expected_f_M + (60-expected_f_PhD)**2/expected_f_PhD + (40-expected_m_HS)**2/expected_m_HS + (44-expected_m_B)**2/expected_m_B + (53-expected_m_M)**2/expected_m_M + (57-expected_m_PhD)**2/expected_m_PhD\n",
    "print(\"Chi Square: \",chi_sq)"
   ]
  },
  {
   "cell_type": "code",
   "execution_count": 21,
   "metadata": {},
   "outputs": [],
   "source": [
    "def chi_critical(alpha,df):\n",
    "    chi_sq_crtical_value = stats.chi2.ppf(1- alpha,df)\n",
    "    return chi_sq_crtical_value"
   ]
  },
  {
   "cell_type": "code",
   "execution_count": 24,
   "metadata": {},
   "outputs": [
    {
     "name": "stdout",
     "output_type": "stream",
     "text": [
      "Chi Critical Value:  7.81\n"
     ]
    }
   ],
   "source": [
    "## df = (rows-1)*(columns-1) -->here rows = 2, cols = 4\n",
    "df = 3\n",
    "alpha = 0.05\n",
    "chi_cric = chi_critical(alpha,df)\n",
    "print(\"Chi Critical Value: \",round(chi_cric,2))"
   ]
  },
  {
   "cell_type": "code",
   "execution_count": 25,
   "metadata": {},
   "outputs": [
    {
     "name": "stdout",
     "output_type": "stream",
     "text": [
      "Null Hypothese is Rejected\n"
     ]
    }
   ],
   "source": [
    "if chi_sq > chi_cric:\n",
    "    print(\"Null Hypothese is Rejected\")\n",
    "else:\n",
    "    print(\"Null Hypotheses is Accepted\")"
   ]
  },
  {
   "cell_type": "markdown",
   "metadata": {},
   "source": [
    "**It infers that education level depends on gender at a 5% level of significance**"
   ]
  },
  {
   "cell_type": "markdown",
   "metadata": {},
   "source": [
    "## Problem Statement 2:\n",
    "Using the following data, perform a oneway analysis of variance using α=.05.  \n",
    "Write up the results in APA format.  \n",
    "[Group1: 51, 45, 33, 45, 67]  \n",
    "[Group2: 23, 43, 23, 43, 45]  \n",
    "[Group3: 56, 76, 74, 87, 56]  "
   ]
  },
  {
   "cell_type": "code",
   "execution_count": 41,
   "metadata": {},
   "outputs": [
    {
     "name": "stdout",
     "output_type": "stream",
     "text": [
      "DF Between:  2\n",
      "DF Within:  12\n",
      "DF Total:  14\n"
     ]
    }
   ],
   "source": [
    "#N is total number of data points across all groups\n",
    "#n is total number of data points within a individual group\n",
    "#a is total number of levels of factor\n",
    "\n",
    "\n",
    "N = 15\n",
    "n = 5\n",
    "a = 3\n",
    "alpha=.05\n",
    "df_between = a-1 \n",
    "print(\"DF Between: \",df_between)\n",
    "df_within = N-a\n",
    "print(\"DF Within: \",df_within)\n",
    "df_total = N-1\n",
    "print(\"DF Total: \",df_total)"
   ]
  },
  {
   "cell_type": "code",
   "execution_count": 36,
   "metadata": {},
   "outputs": [
    {
     "name": "stdout",
     "output_type": "stream",
     "text": [
      "-----Group 1 stats-------\n",
      "Mean:  48.2\n",
      "Variance:  153.2\n",
      "Std Deviation:  12.38\n",
      "-----Group 2 stats-------\n",
      "Mean:  35.4\n",
      "Variance:  128.8\n",
      "Std Deviation:  11.35\n",
      "-----Group 3 stats-------\n",
      "Mean:  69.8\n",
      "Variance:  183.2\n",
      "Std Deviation:  13.54\n"
     ]
    }
   ],
   "source": [
    "group1 = np.array([51, 45, 33, 45, 67])\n",
    "group2 = np.array([23, 43, 23, 43, 45])\n",
    "group3 = np.array([56, 76, 74, 87, 56])\n",
    "\n",
    "#print(group1,group2,group3)\n",
    "print('-----Group 1 stats-------')\n",
    "grp1_mean = np.mean(group1)\n",
    "grp1_var = np.var(group1,ddof=1)\n",
    "grp1_std_dev = round(np.sqrt(grp1_var),2)\n",
    "print(\"Mean: \",grp1_mean)\n",
    "print(\"Variance: \",grp1_var)\n",
    "print(\"Std Deviation: \",grp1_std_dev) ##Sample Std Deviation\n",
    "print('-----Group 2 stats-------')\n",
    "grp2_mean = np.mean(group2)\n",
    "grp2_var = np.var(group2,ddof=1)\n",
    "grp2_std_dev = round(np.sqrt(grp2_var),2)\n",
    "print(\"Mean: \",grp2_mean)\n",
    "print(\"Variance: \",grp2_var)\n",
    "print(\"Std Deviation: \",grp2_std_dev)\n",
    "print('-----Group 3 stats-------')\n",
    "grp3_mean = np.mean(group3)\n",
    "grp3_var = np.var(group3,ddof=1)\n",
    "grp3_std_dev = round(np.sqrt(grp3_var),2)\n",
    "print(\"Mean: \",grp3_mean)\n",
    "print(\"Variance: \",grp3_var)\n",
    "print(\"Std Deviation: \",grp3_std_dev)"
   ]
  },
  {
   "cell_type": "code",
   "execution_count": 54,
   "metadata": {},
   "outputs": [
    {
     "name": "stdout",
     "output_type": "stream",
     "text": [
      "Mean Squares Within:  155.07\n",
      "-------------------\n",
      "Sum of Squares Within:  1860.84\n",
      "-------------------\n",
      "Mean of Group Means:  51.13\n",
      "-------------------\n"
     ]
    }
   ],
   "source": [
    "mean_sq_within = round(np.divide(grp1_var + grp2_var + grp3_var,3),2)\n",
    "print(\"Mean Squares Within: \",mean_sq_within)\n",
    "print('-------------------')\n",
    "sum_of_sq_within = mean_sq_within * df_within\n",
    "print(\"Sum of Squares Within: \",sum_of_sq_within)\n",
    "print('-------------------')\n",
    "mean_of_group_means = round(np.divide(grp1_mean+grp2_mean+grp3_mean,3),2)\n",
    "print(\"Mean of Group Means: \",mean_of_group_means)\n",
    "print('-------------------')\n",
    "                                  "
   ]
  },
  {
   "cell_type": "code",
   "execution_count": 59,
   "metadata": {},
   "outputs": [
    {
     "name": "stdout",
     "output_type": "stream",
     "text": [
      "Variance of Group Means:  302.29335\n",
      "Mean Squares Between:  1511.47\n",
      "-------------------\n",
      "F_Score:  9.75\n"
     ]
    }
   ],
   "source": [
    "varianceof_grp_means=np.divide((np.power(grp1_mean-mean_of_group_means,2) + np.power(grp2_mean-mean_of_group_means,2) + np.power(grp3_mean-mean_of_group_means,2)),2)\n",
    "print(\"Variance of Group Means: \",varianceof_grp_means) \n",
    "mean_sq_between = round(varianceof_grp_means * 5,2) ## 5 is the no of elements in each grp\n",
    "print(\"Mean Squares Between: \",mean_sq_between)\n",
    "print('-------------------')\n",
    "F_SCore = round(mean_sq_between / mean_sq_within,2)\n",
    "print(\"F_Score: \",F_SCore)"
   ]
  },
  {
   "cell_type": "code",
   "execution_count": 70,
   "metadata": {},
   "outputs": [
    {
     "name": "stdout",
     "output_type": "stream",
     "text": [
      "F_Critical:  3.89\n",
      "Null Hypothese is Rejected\n"
     ]
    }
   ],
   "source": [
    "alpha = 0.05 \n",
    "F_Critical = stats.f.ppf(1-alpha, df_between, df_within)\n",
    "print(\"F_Critical: \",round(F_Critical,2))\n",
    "\n",
    "if F_SCore > F_Critical:\n",
    "    print(\"Null Hypothese is Rejected\")\n",
    "else:\n",
    "    print(\"Null Hypotheses is Accepted\")"
   ]
  },
  {
   "cell_type": "markdown",
   "metadata": {},
   "source": [
    "## Problem Statement 3:\n",
    "Calculate F Test for given 10, 20, 30, 40, 50 and 5,10,15, 20, 25."
   ]
  },
  {
   "cell_type": "code",
   "execution_count": 81,
   "metadata": {},
   "outputs": [
    {
     "name": "stdout",
     "output_type": "stream",
     "text": [
      "DF Between:  1\n",
      "DF Within:  8\n",
      "DF Total:  9\n"
     ]
    }
   ],
   "source": [
    "#N is total number of data points across all groups\n",
    "#n is total number of data points within a individual group\n",
    "#a is total number of levels of factor\n",
    "\n",
    "\n",
    "N = 10\n",
    "n = 5\n",
    "a = 2\n",
    "alpha=.05\n",
    "df_between = a-1 \n",
    "print(\"DF Between: \",df_between)\n",
    "df_within = N-a\n",
    "print(\"DF Within: \",df_within)\n",
    "df_total = N-1\n",
    "print(\"DF Total: \",df_total)"
   ]
  },
  {
   "cell_type": "code",
   "execution_count": 82,
   "metadata": {},
   "outputs": [
    {
     "name": "stdout",
     "output_type": "stream",
     "text": [
      "-----Group 1 stats-------\n",
      "Mean:  30.0\n",
      "Variance:  250.0\n",
      "Std Deviation:  15.81\n",
      "-----Group 2 stats-------\n",
      "Mean:  15.0\n",
      "Variance:  62.5\n",
      "Std Deviation:  7.91\n"
     ]
    }
   ],
   "source": [
    "group1 = np.array([10, 20, 30, 40, 50])\n",
    "group2 = np.array([5,10,15, 20, 25])\n",
    "\n",
    "\n",
    "#print(group1,group2,group3)\n",
    "print('-----Group 1 stats-------')\n",
    "grp1_mean = np.mean(group1)\n",
    "grp1_var = np.var(group1,ddof=1)\n",
    "grp1_std_dev = round(np.sqrt(grp1_var),2)\n",
    "print(\"Mean: \",grp1_mean)\n",
    "print(\"Variance: \",grp1_var)\n",
    "print(\"Std Deviation: \",grp1_std_dev) ##Sample Std Deviation\n",
    "print('-----Group 2 stats-------')\n",
    "grp2_mean = np.mean(group2)\n",
    "grp2_var = np.var(group2,ddof=1)\n",
    "grp2_std_dev = round(np.sqrt(grp2_var),2)\n",
    "print(\"Mean: \",grp2_mean)\n",
    "print(\"Variance: \",grp2_var)\n",
    "print(\"Std Deviation: \",grp2_std_dev)\n"
   ]
  },
  {
   "cell_type": "code",
   "execution_count": 84,
   "metadata": {},
   "outputs": [
    {
     "name": "stdout",
     "output_type": "stream",
     "text": [
      "Mean Squares Within:  156\n",
      "-------------------\n",
      "Sum of Squares Within:  1248\n",
      "-------------------\n",
      "Mean of Group Means:  22.5\n",
      "-------------------\n"
     ]
    }
   ],
   "source": [
    "mean_sq_within = round(np.divide(grp1_var + grp2_var,2))\n",
    "print(\"Mean Squares Within: \",mean_sq_within)\n",
    "print('-------------------')\n",
    "sum_of_sq_within = mean_sq_within * df_within\n",
    "print(\"Sum of Squares Within: \",sum_of_sq_within)\n",
    "print('-------------------')\n",
    "mean_of_group_means = round(np.divide(grp1_mean+grp2_mean,2),2)\n",
    "print(\"Mean of Group Means: \",mean_of_group_means)\n",
    "print('-------------------')"
   ]
  },
  {
   "cell_type": "code",
   "execution_count": 86,
   "metadata": {},
   "outputs": [
    {
     "name": "stdout",
     "output_type": "stream",
     "text": [
      "Variance of Group Means:  56.25\n",
      "Mean Squares Between:  281.25\n",
      "-------------------\n",
      "F_Score:  4\n"
     ]
    }
   ],
   "source": [
    "varianceof_grp_means=np.divide((np.power(grp1_mean-mean_of_group_means,2) + np.power(grp2_mean-mean_of_group_means,2)),2)\n",
    "print(\"Variance of Group Means: \",varianceof_grp_means) \n",
    "mean_sq_between = round(varianceof_grp_means * 5,2) ## 5 is the no of elements in each grp\n",
    "print(\"Mean Squares Between: \",mean_sq_between)\n",
    "print('-------------------')\n",
    "F_SCore = round(grp1_var / grp2_var)\n",
    "print(\"F_Score: \",F_SCore)"
   ]
  }
 ],
 "metadata": {
  "kernelspec": {
   "display_name": "Python 3",
   "language": "python",
   "name": "python3"
  },
  "language_info": {
   "codemirror_mode": {
    "name": "ipython",
    "version": 3
   },
   "file_extension": ".py",
   "mimetype": "text/x-python",
   "name": "python",
   "nbconvert_exporter": "python",
   "pygments_lexer": "ipython3",
   "version": "3.8.5"
  }
 },
 "nbformat": 4,
 "nbformat_minor": 4
}
