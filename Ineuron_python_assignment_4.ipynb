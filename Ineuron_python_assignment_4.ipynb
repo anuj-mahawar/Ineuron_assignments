{
 "cells": [
  {
   "cell_type": "markdown",
   "metadata": {},
   "source": [
    "## Q 1.1 Write a Python Program(with class concepts) to find the area of the triangle using the below formula.\n",
    "area = (s*(s-a)*(s-b)*(s-c)) ** 0.5\n"
   ]
  },
  {
   "cell_type": "markdown",
   "metadata": {},
   "source": [
    "Function to take the length of the sides of triangle from user should be defined in the parent\n",
    "class and function to calculate the area should be defined in subclass."
   ]
  },
  {
   "cell_type": "code",
   "execution_count": 24,
   "metadata": {},
   "outputs": [],
   "source": [
    "class length():\n",
    "    \n",
    "    def __init__(self):\n",
    "        self.a = float(input('Enter the length of first side: '))\n",
    "        self.b = float(input('Enter the length of second side: '))\n",
    "        self.c = float(input('Enter the length of third side: '))\n",
    "        \n",
    "        \n",
    "    def __str__(self):\n",
    "         return 'First side of Triangle is %0.2f, second side is %0.2f and third side of triangle is %0.2f'%(self.a,self.b,self.c)"
   ]
  },
  {
   "cell_type": "code",
   "execution_count": 30,
   "metadata": {},
   "outputs": [],
   "source": [
    "import math\n",
    "class calculate_area(length):\n",
    "    \n",
    "    def __init__(self,*args):\n",
    "        super(calculate_area,self).__init__(*args)\n",
    "        self.peri = float((self.a+self.b+self.c)/2)\n",
    "        self.ar = math.sqrt(self.peri*(self.peri-self.a)*(self.peri-self.a)*(self.peri-self.a))\n",
    "    \n",
    "    def __str__(self):\n",
    "         return super(calculate_area,self).__str__() + ' and its area is: %0.3f' %self.ar"
   ]
  },
  {
   "cell_type": "code",
   "execution_count": 31,
   "metadata": {},
   "outputs": [
    {
     "name": "stdout",
     "output_type": "stream",
     "text": [
      "Enter the length of first side: 5\n",
      "Enter the length of second side: 5\n",
      "Enter the length of third side: 5\n"
     ]
    }
   ],
   "source": [
    "z = calculate_area()"
   ]
  },
  {
   "cell_type": "code",
   "execution_count": 32,
   "metadata": {},
   "outputs": [
    {
     "name": "stdout",
     "output_type": "stream",
     "text": [
      "First side of Triangle is 5.00, second side is 5.00 and third side of triangle is 5.00 and its area is: 10.825\n"
     ]
    }
   ],
   "source": [
    "print(z)"
   ]
  },
  {
   "cell_type": "markdown",
   "metadata": {},
   "source": [
    "## Q 1.2 Write a function filter_long_words() that takes a list of words and an integer n and returns the list of words that are longer than n."
   ]
  },
  {
   "cell_type": "code",
   "execution_count": 33,
   "metadata": {},
   "outputs": [],
   "source": [
    "def filter_long_words(obj,n):\n",
    "    long_words = []\n",
    "    for word in obj:\n",
    "        if len(word) > n :\n",
    "            long_words.append(word)\n",
    "    return long_words\n",
    "\n",
    "## Simple execution\n",
    "##my_list = ['asdf','tsegr','qwerty','sadfasd']\n",
    "##print(filter_long_words(my_list,4))"
   ]
  },
  {
   "cell_type": "code",
   "execution_count": 34,
   "metadata": {},
   "outputs": [
    {
     "name": "stdout",
     "output_type": "stream",
     "text": [
      "Please enter a string, type exit to stop: one\n",
      "Please enter next string 2\n",
      "Please enter next string three\n",
      "Please enter next string 4\n",
      "Please enter next string exit\n",
      "Entered list : ['one', '2', 'three', '4']\n",
      "Please enter the min legth of words:2\n",
      "List of words that are longer than 2 are : ['one', 'three']\n"
     ]
    }
   ],
   "source": [
    "user_input = input(\"Please enter a string, type exit to stop: \")\n",
    "input_list = []\n",
    "\n",
    "while user_input.lower() != 'exit':\n",
    "    \n",
    "    input_list.append(user_input)\n",
    "    \n",
    "    user_input = input(\"Please enter next string \")\n",
    "    \n",
    "print(f'Entered list : {input_list}')\n",
    "\n",
    "count_len = int(input('Please enter the min legth of words:'))\n",
    "\n",
    "print(f'List of words that are longer than {count_len} are : {filter_long_words(input_list,count_len)}')"
   ]
  },
  {
   "cell_type": "markdown",
   "metadata": {},
   "source": [
    "## Q 2.1 Write a Python program using function concept that maps list of words into a list of integers representing the lengths of the corresponding words."
   ]
  },
  {
   "cell_type": "code",
   "execution_count": 35,
   "metadata": {},
   "outputs": [
    {
     "name": "stdout",
     "output_type": "stream",
     "text": [
      "[9, 5, 6, 7]\n"
     ]
    }
   ],
   "source": [
    "def count_len(obj):\n",
    "    count = []\n",
    "    for word in obj:\n",
    "        count.append(len(str(word)))\n",
    "    return count\n",
    "\n",
    "my_list = [123456789,'tsegr','qwerty','sadfasd']\n",
    "print(count_len(my_list))"
   ]
  },
  {
   "cell_type": "markdown",
   "metadata": {},
   "source": [
    "## Q 2.2 Write a Python function which takes a character (i.e. a string of length 1) and returns True if it is a vowel, False otherwise."
   ]
  },
  {
   "cell_type": "code",
   "execution_count": 71,
   "metadata": {},
   "outputs": [],
   "source": [
    "def check_vowel(obj):\n",
    "\n",
    "    if (obj == 'a') | (obj == 'o') | (obj == 'e') | (obj == 'i') | (obj == 'u'):\n",
    "        return True\n",
    "    else:\n",
    "        return False"
   ]
  },
  {
   "cell_type": "code",
   "execution_count": 79,
   "metadata": {},
   "outputs": [
    {
     "name": "stdout",
     "output_type": "stream",
     "text": [
      "Enter a character: a\n",
      "True\n"
     ]
    }
   ],
   "source": [
    "usr_input = str(input('Enter a character: '))\n",
    "if len(usr_input) < 2 and usr_input.isalpha():\n",
    "    print(check_vowel((usr_input.lower())))\n",
    "else:\n",
    "    print('Enter only Character of length 1')"
   ]
  }
 ],
 "metadata": {
  "kernelspec": {
   "display_name": "Python 3",
   "language": "python",
   "name": "python3"
  },
  "language_info": {
   "codemirror_mode": {
    "name": "ipython",
    "version": 3
   },
   "file_extension": ".py",
   "mimetype": "text/x-python",
   "name": "python",
   "nbconvert_exporter": "python",
   "pygments_lexer": "ipython3",
   "version": "3.8.3"
  }
 },
 "nbformat": 4,
 "nbformat_minor": 4
}
