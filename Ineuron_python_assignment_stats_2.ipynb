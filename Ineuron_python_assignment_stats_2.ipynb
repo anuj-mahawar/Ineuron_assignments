{
 "cells": [
  {
   "cell_type": "markdown",
   "metadata": {},
   "source": [
    "#### Problem Statement 1:\n",
    "In each of the following situations, state whether it is a correctly stated hypothesis\n",
    "testing problem and why?"
   ]
  },
  {
   "cell_type": "markdown",
   "metadata": {},
   "source": [
    "- 1. 𝐻0: 𝜇 = 25, 𝐻1: 𝜇 ≠ 25   - **Correct,its a two tailed test**\n",
    "- 2. 𝐻0: 𝜎 > 10, 𝐻1: 𝜎 = 10   - **Correct, as its a right tailed test**\n",
    "- 3. 𝐻0: 𝑥 = 50, 𝐻1: 𝑥 ≠ 50   - **Incorrect,it should be population mean**\n",
    "- 4. 𝐻0: 𝑝 = 0.1, 𝐻1: 𝑝 = 0.5 - **Correct as it is using a population proportion**\n",
    "- 5. 𝐻0: 𝑠 = 30, 𝐻1: 𝑠 > 30    - **Incorrect, it should be population variance**"
   ]
  },
  {
   "cell_type": "markdown",
   "metadata": {},
   "source": [
    "#### Problem Statement 2:\n",
    "- The college bookstore tells prospective students that the average cost of its textbooks is Rs. 52 with a standard deviation of Rs. 4.50. A group of smart statistics students thinks that the average cost is higher. To test the bookstore’s claim against their alternative, the students will select a random sample of size 100. Assume that the mean from their random sample is Rs. 52.80. Perform a hypothesis test at the 5% level of significance and state your decision."
   ]
  },
  {
   "cell_type": "markdown",
   "metadata": {},
   "source": [
    "- `Null Hypotheses` **H0:𝜇 = 52**\n",
    "- `Alternate Hypotheses` **H1:𝜇 > 52**"
   ]
  },
  {
   "cell_type": "code",
   "execution_count": 34,
   "metadata": {},
   "outputs": [],
   "source": [
    "import numpy as np\n",
    "from scipy import stats"
   ]
  },
  {
   "cell_type": "code",
   "execution_count": 35,
   "metadata": {},
   "outputs": [],
   "source": [
    "def z_statistics(n,sample_mean,pop_mean,pop_std_dev):\n",
    "    std_error = pop_std_dev/np.sqrt(n)\n",
    "    z_statistic = (sample_mean - pop_mean)/std_error\n",
    "    return z_statistic"
   ]
  },
  {
   "cell_type": "code",
   "execution_count": 36,
   "metadata": {},
   "outputs": [],
   "source": [
    "def one_sided_z_test(alpha):\n",
    "    z_alpha = 1 - alpha\n",
    "    z_critical = stats.norm.ppf(z_alpha)\n",
    "    return round(z_critical,3)"
   ]
  },
  {
   "cell_type": "code",
   "execution_count": 37,
   "metadata": {},
   "outputs": [],
   "source": [
    "def hypotheses_decision(z_stats,z_critical):\n",
    "    if np.absolute(z_stats) >= np.positive(z_critical):\n",
    "        return \"Null Hypotheses is Rejected\"\n",
    "    else:\n",
    "        return \"Null Hypotheses is Accepted\""
   ]
  },
  {
   "cell_type": "code",
   "execution_count": 38,
   "metadata": {},
   "outputs": [
    {
     "name": "stdout",
     "output_type": "stream",
     "text": [
      "Z_Stats:  1.7778\n",
      "---------------------\n",
      "Critical Value:  1.645\n",
      "--------------------------\n",
      "Null Hypotheses is Rejected\n"
     ]
    }
   ],
   "source": [
    "n = 100\n",
    "x = 52.80\n",
    "mu = 52\n",
    "sigma = 4.50\n",
    "alpha = 0.05\n",
    "z_stats = z_statistics(100,52.80,52,4.50)\n",
    "print(\"Z_Stats: \",round(z_stats,4))\n",
    "print('---------------------')\n",
    "z_critical_test = one_sided_z_test(alpha)\n",
    "print('Critical Value: ',z_critical_test)\n",
    "print('--------------------------')\n",
    "print(hypotheses_decision(z_stats,z_critical_test))"
   ]
  },
  {
   "cell_type": "markdown",
   "metadata": {},
   "source": [
    "**That implies that the average price is not equal to 52. NULL Hypotheses is Rejected and Alternate is Selected**"
   ]
  },
  {
   "cell_type": "markdown",
   "metadata": {},
   "source": [
    "#### Problem Statement 3:\n",
    "- A certain chemical pollutant in the Genesee River has been constant for several years with mean μ = 34 ppm (parts per million) and standard deviation σ = 8 ppm. A group of factory representatives whose companies discharge liquids into the river is now claiming that they have lowered the average with improved filtration devices. A group of environmentalists will test to see if this is true at the 1% level of significance. Assume that their sample of size 50 gives a mean of 32.5 ppm.Perform a hypothesis test at the 1% level of significance and state your decision"
   ]
  },
  {
   "cell_type": "markdown",
   "metadata": {},
   "source": [
    "- `Null Hypotheses` **H0:𝜇 = 34**\n",
    "- `Alternate Hypotheses` **H1:𝜇 < 34**"
   ]
  },
  {
   "cell_type": "code",
   "execution_count": 39,
   "metadata": {},
   "outputs": [
    {
     "name": "stdout",
     "output_type": "stream",
     "text": [
      "--------------------------\n",
      "Z_Test:  -1.326\n",
      "--------------------------\n",
      "Critical Value:  2.326\n",
      "--------------------------\n",
      "Null Hypotheses is Accepted\n"
     ]
    }
   ],
   "source": [
    "n = 50\n",
    "x = 32.5\n",
    "𝜇 = 34\n",
    "pop_var = 8\n",
    "alpha = 0.01\n",
    "print('--------------------------')\n",
    "z_stats = z_statistics(n,x,𝜇,pop_var)\n",
    "print('Z_Test: ',round(z_stats,3))\n",
    "print('--------------------------')\n",
    "z_critical_test = one_sided_z_test(alpha)\n",
    "print('Critical Value: ',z_critical_test)\n",
    "print('--------------------------')\n",
    "print(hypotheses_decision(z_stats,z_critical_test))"
   ]
  },
  {
   "cell_type": "markdown",
   "metadata": {},
   "source": [
    "**That implies that the factory representatives' claim is False. The average is still the same**"
   ]
  },
  {
   "cell_type": "markdown",
   "metadata": {},
   "source": [
    "## Problem Statement 4:  \n",
    "Based on population figures and other general information on the U.S. population,suppose it has been estimated that, on average, a family of four in the U.S. spends about $1135 annually on dental expenditures. Suppose further that a regional dental association wants to test to determine if this figure is accurate for their area of country. To test this, 22 families of 4 are randomly selected from the population in that area of the country and a log is kept of the family’s dental expenditure for one year. The resulting data are given below. Assuming, that dental expenditure is normally distributed in the population, use the data and an alpha of 0.5 to test the dental association’s hypothesis.  \n",
    "1008, 812, 1117, 1323, 1308, 1415, 831, 1021, 1287, 851, 930, 730, 699,872, 913, 944, 954, 987, 1695, 995, 1003, 994"
   ]
  },
  {
   "cell_type": "markdown",
   "metadata": {},
   "source": [
    "- `Null Hypotheses` **H0:𝜇 = 1135**\n",
    "- `Alternate Hypotheses` **H1:𝜇 ≠ 1135**"
   ]
  },
  {
   "cell_type": "code",
   "execution_count": 40,
   "metadata": {},
   "outputs": [],
   "source": [
    "## As the number of samples are < 30 and population variance is unknown\n",
    "def t_statistics(data,pop_mean):\n",
    "    t_Stats,p_value = stats.ttest_1samp(data,pop_mean) ## for 1 Sample\n",
    "    return round(t_Stats,3),round(p_value,3)"
   ]
  },
  {
   "cell_type": "markdown",
   "metadata": {},
   "source": [
    "#### To find the T critical value in Python, you can use the scipy.stats.t.ppf() function, which uses the following syntax:\n",
    "\n",
    "**scipy.stats.t.ppf(q, df)**\n",
    "\n",
    "where:\n",
    "\n",
    "q: The significance level to use  \n",
    "df: The degrees of freedom"
   ]
  },
  {
   "cell_type": "code",
   "execution_count": 41,
   "metadata": {},
   "outputs": [
    {
     "name": "stdout",
     "output_type": "stream",
     "text": [
      "2.831359558017186\n"
     ]
    }
   ],
   "source": [
    "## To calculate T-critical value\n",
    "import scipy\n",
    "t_critical = scipy.stats.t.ppf(1-alpha/2,21)\n",
    "print(t_critical)"
   ]
  },
  {
   "cell_type": "code",
   "execution_count": 42,
   "metadata": {},
   "outputs": [],
   "source": [
    "def hypotheses_decision_with_p_value(p_value,alpha):\n",
    "    if p_value <= alpha:\n",
    "        return \"Null Hypotheses is Rejected\"\n",
    "    else:\n",
    "        return \"Null Hypotheses is Accepted\""
   ]
  },
  {
   "cell_type": "code",
   "execution_count": 43,
   "metadata": {},
   "outputs": [
    {
     "name": "stdout",
     "output_type": "stream",
     "text": [
      "Sample Mean:  1031.318\n",
      "--------------------------\n",
      "Sample Std Deviation:  240.375\n"
     ]
    }
   ],
   "source": [
    "sample_data = np.array([1008, 812, 1117, 1323, 1308, 1415, 831, 1021, 1287, 851, 930, 730, 699,\n",
    "872, 913, 944, 954, 987, 1695, 995, 1003, 994])\n",
    "sample_mean = round(np.mean(sample_data),3)\n",
    "print(\"Sample Mean: \",sample_mean)\n",
    "print('--------------------------')\n",
    "sample_std_dev = round(np.std(sample_data,ddof=1),3) ##Bessel's Correlation\n",
    "print(\"Sample Std Deviation: \",sample_std_dev)"
   ]
  },
  {
   "cell_type": "code",
   "execution_count": 44,
   "metadata": {},
   "outputs": [
    {
     "name": "stdout",
     "output_type": "stream",
     "text": [
      "240.3745859247108\n"
     ]
    }
   ],
   "source": [
    "## Verifying the sample std deviation\n",
    "sum = 0\n",
    "for i in sample_data:\n",
    "    sum += (i - sample_mean)**2\n",
    "print(np.sqrt(sum/21))"
   ]
  },
  {
   "cell_type": "code",
   "execution_count": 45,
   "metadata": {},
   "outputs": [
    {
     "name": "stdout",
     "output_type": "stream",
     "text": [
      "T_Test Value:  -2.023\n",
      "--------------------------\n",
      "One sided p Value:  0.056\n",
      "Two sided p Value:  0.112\n",
      "--------------------------\n",
      "Null Hypotheses is Rejected\n"
     ]
    }
   ],
   "source": [
    "n = 22\n",
    "sample_mean = round(np.mean(sample_data),3)\n",
    "𝜇 = 1135\n",
    "alpha = 0.5\n",
    "##sample_std_dev = round(np.std(sample_data,ddof=1),3) ##Bessel's Coorelation\n",
    "# t_stats = t_statistics(sample_data,𝜇)\n",
    "# print('T_Test: ',round(t_stats,3))\n",
    "# print('--------------------------')\n",
    "t_stats,p_value = t_statistics(sample_data,𝜇)\n",
    "print('T_Test Value: ',t_stats)\n",
    "print('--------------------------')\n",
    "print('One sided p Value: ',p_value)\n",
    "## As its a 2- tailed test\n",
    "p_value = p_value*2\n",
    "print('Two sided p Value: ',p_value)\n",
    "print('--------------------------')\n",
    "print(hypotheses_decision_with_p_value(p_value,alpha))"
   ]
  },
  {
   "cell_type": "markdown",
   "metadata": {},
   "source": [
    "**That implies that the on average, a family of four in the U.S. does not spends about 1135 annually on dental expenditures**"
   ]
  },
  {
   "cell_type": "markdown",
   "metadata": {},
   "source": [
    "## Problem Statement 5:  \n",
    "In a report prepared by the Economic Research Department of a major bank the Department manager maintains that the average annual family income on Metropolis is 48,432.**What do you conclude about the validity of the report if a random sample of 400 families shows and average income of 48,574 with a standard deviation of 2000?**"
   ]
  },
  {
   "cell_type": "markdown",
   "metadata": {},
   "source": [
    "- `Null Hypotheses` **H0:𝜇 = 48432**\n",
    "- `Alternate Hypotheses` **H1:𝜇 ≠ 48432**"
   ]
  },
  {
   "cell_type": "code",
   "execution_count": 46,
   "metadata": {},
   "outputs": [
    {
     "data": {
      "text/plain": [
       "<function scipy.stats.stats.zscore(a, axis=0, ddof=0, nan_policy='propagate')>"
      ]
     },
     "execution_count": 46,
     "metadata": {},
     "output_type": "execute_result"
    }
   ],
   "source": [
    "scipy.stats.zscore"
   ]
  },
  {
   "cell_type": "code",
   "execution_count": 47,
   "metadata": {},
   "outputs": [],
   "source": [
    "## to find the critical z_value\n",
    "def two_sided_z_test(alpha):\n",
    "    z_alpha = 1 - (alpha/2)\n",
    "    z_critical = stats.norm.ppf(z_alpha)\n",
    "    return round(z_critical,3)"
   ]
  },
  {
   "cell_type": "code",
   "execution_count": 48,
   "metadata": {},
   "outputs": [
    {
     "name": "stdout",
     "output_type": "stream",
     "text": [
      "Z_Score:  1.42\n"
     ]
    }
   ],
   "source": [
    "## As the sample size is large and central theroem holds good, we will use Z-test\n",
    "pop_mean = 48432\n",
    "n = 400\n",
    "sam_mean = 48574\n",
    "sam_std_dev = 2000\n",
    "Z_Test = z_statistics(n,sam_mean,pop_mean,sam_std_dev)\n",
    "print('Z_Score: ',round(Z_Test,3))"
   ]
  },
  {
   "cell_type": "code",
   "execution_count": 49,
   "metadata": {},
   "outputs": [
    {
     "name": "stdout",
     "output_type": "stream",
     "text": [
      "z_critical:  1.96\n"
     ]
    }
   ],
   "source": [
    "alpha = 0.05 ##assuming\n",
    "z_critical = two_sided_z_test(alpha)\n",
    "print('z_critical: ',round(z_critical,3))"
   ]
  },
  {
   "cell_type": "code",
   "execution_count": 50,
   "metadata": {},
   "outputs": [
    {
     "data": {
      "text/plain": [
       "'Null Hypotheses is Accepted'"
      ]
     },
     "execution_count": 50,
     "metadata": {},
     "output_type": "execute_result"
    }
   ],
   "source": [
    "hypotheses_decision(Z_Test,z_critical)"
   ]
  },
  {
   "cell_type": "markdown",
   "metadata": {},
   "source": [
    "**That implies that the report is valid and the mean annual family income is 48,432.**"
   ]
  },
  {
   "cell_type": "markdown",
   "metadata": {},
   "source": [
    "## Problem Statement 6:\n",
    "Suppose that in past years the average price per square foot for warehouses in the\n",
    "United States has been 32.28. A national real estate investor wants to determine\n",
    "whether that figure has changed now. The investor hires a researcher who randomly\n",
    "samples 19 warehouses that are for sale across the United States and finds that the\n",
    "mean price per square foot is 31.67, with a standard deviation of 1.29. assume\n",
    "that the prices of warehouse footage are normally distributed in population. If the\n",
    "researcher uses a 5% level of significance, what statistical conclusion can be\n",
    "reached? What are the hypotheses?"
   ]
  },
  {
   "cell_type": "markdown",
   "metadata": {},
   "source": [
    "- `Null Hypotheses` **H0:𝜇 = 32.28**\n",
    "- `Alternate Hypotheses` **H1:𝜇 ≠ 32.28**"
   ]
  },
  {
   "cell_type": "code",
   "execution_count": 51,
   "metadata": {},
   "outputs": [],
   "source": [
    "def t_statistics_with_data(n,sample_mean,pop_mean,sam_std_dev):\n",
    "    std_error = sam_std_dev/np.sqrt(n)\n",
    "    t_statistic = (sample_mean - pop_mean)/std_error\n",
    "    return t_statistic"
   ]
  },
  {
   "cell_type": "code",
   "execution_count": 52,
   "metadata": {},
   "outputs": [
    {
     "name": "stdout",
     "output_type": "stream",
     "text": [
      "T_Test:  -2.061\n"
     ]
    }
   ],
   "source": [
    "## Sample size is less than 30 and population variance/std dev is unknown\n",
    "pop_mean = 32.28\n",
    "n = 19\n",
    "sam_mean = 31.67\n",
    "sam_std_dev = 1.29\n",
    "T_Stats = t_statistics_with_data(n,sam_mean,pop_mean,sam_std_dev)\n",
    "print('T_Test: ',round(T_Stats,3))\n"
   ]
  },
  {
   "cell_type": "code",
   "execution_count": 53,
   "metadata": {},
   "outputs": [
    {
     "name": "stdout",
     "output_type": "stream",
     "text": [
      "t_critical_score:  2.101\n"
     ]
    }
   ],
   "source": [
    "alpha = 0.05\n",
    "df = n-1\n",
    "##print(df)\n",
    "t_critical_score = stats.t.ppf(1-(alpha/2),df)\n",
    "print('t_critical_score: ',round(t_critical_score,3))"
   ]
  },
  {
   "cell_type": "code",
   "execution_count": 54,
   "metadata": {},
   "outputs": [
    {
     "data": {
      "text/plain": [
       "'Null Hypotheses is Accepted'"
      ]
     },
     "execution_count": 54,
     "metadata": {},
     "output_type": "execute_result"
    }
   ],
   "source": [
    "hypotheses_decision(T_Stats,t_critical_score)"
   ]
  },
  {
   "cell_type": "markdown",
   "metadata": {},
   "source": [
    "**That implies that average price per square foot is 32.28**"
   ]
  },
  {
   "attachments": {
    "image.png": {
     "image/png": "[encoded data removed]"
    }
   },
   "cell_type": "markdown",
   "metadata": {},
   "source": [
    "## Problem Statement 7:\n",
    "- Fill in the blank spaces in the table and draw your conclusions from it.\n",
    "![image.png](attachment:image.png)"
   ]
  },
  {
   "cell_type": "markdown",
   "metadata": {},
   "source": [
    "## Problem Statement 8:\n",
    "Find the t-score for a sample size of 16 taken from a population with mean 10 when the sample mean is 12 and the sample standard deviation is 1.5."
   ]
  },
  {
   "cell_type": "code",
   "execution_count": 55,
   "metadata": {},
   "outputs": [
    {
     "name": "stdout",
     "output_type": "stream",
     "text": [
      "T_Stats:  5.333\n"
     ]
    }
   ],
   "source": [
    "pop_mean = 10\n",
    "sam_mean = 12\n",
    "sam_std_deviation = 1.5\n",
    "n = 16\n",
    "\n",
    "T_Stats = t_statistics_with_data(n,sam_mean,pop_mean,sam_std_deviation)\n",
    "print('T_Stats: ',round(T_Stats,3))\n"
   ]
  },
  {
   "cell_type": "markdown",
   "metadata": {},
   "source": [
    "## Problem Statement 9:\n",
    "Find the t-score below which we can expect 99% of sample means will fall if samples of size 16 are taken from a normally distributed population."
   ]
  },
  {
   "cell_type": "code",
   "execution_count": 56,
   "metadata": {},
   "outputs": [
    {
     "name": "stdout",
     "output_type": "stream",
     "text": [
      "T_Score below which we can expect 99% of sample means will fall:  2.946712883338615\n"
     ]
    }
   ],
   "source": [
    "alpha = 0.01\n",
    "n = 16\n",
    "df = n-1\n",
    "\n",
    "t_critical_score = stats.t.ppf(1-(alpha/2),df)\n",
    "print(\"T_Score below which we can expect 99% of sample means will fall: \",t_critical_score)"
   ]
  },
  {
   "cell_type": "markdown",
   "metadata": {},
   "source": [
    "## Problem Statement 10:\n",
    "If a random sample of size 25 drawn from a normal population gives a mean of 60 and a standard deviation of 4, find the range of t-scores where we can expect to find the middle 95% of all sample means. Compute the probability that (−𝑡0.05 <𝑡<𝑡0.10)."
   ]
  },
  {
   "cell_type": "code",
   "execution_count": 58,
   "metadata": {},
   "outputs": [],
   "source": [
    "n = 25\n",
    "sam_mean = 60\n",
    "sam_std_dev = 4\n",
    "alpha = 0.05\n",
    "p = 1- alpha/2\n",
    "df = n-1"
   ]
  },
  {
   "cell_type": "code",
   "execution_count": 61,
   "metadata": {},
   "outputs": [],
   "source": [
    "def ci(n,sam_mean,s,p):\n",
    "    margin_of_err = stats.t.ppf(p,n-1)*(s/np.sqrt(n))\n",
    "    ls = sam_mean - margin_of_err\n",
    "    hs = sam_mean + margin_of_err\n",
    "    return ls,hs"
   ]
  },
  {
   "cell_type": "code",
   "execution_count": 62,
   "metadata": {},
   "outputs": [
    {
     "data": {
      "text/plain": [
       "(58.348881150697586, 61.651118849302414)"
      ]
     },
     "execution_count": 62,
     "metadata": {},
     "output_type": "execute_result"
    }
   ],
   "source": [
    "ci (n,sam_mean,sam_std_dev,p)"
   ]
  },
  {
   "cell_type": "code",
   "execution_count": 63,
   "metadata": {},
   "outputs": [
    {
     "data": {
      "text/plain": [
       "0.85"
      ]
     },
     "execution_count": 63,
     "metadata": {},
     "output_type": "execute_result"
    }
   ],
   "source": [
    "#p(-t0.05<t<t0.1) = p(t0.1) - p(-t0.05) = 1- p(t0.1) - p(t0.05)\n",
    "prob = 1-0.05-0.1\n",
    "prob"
   ]
  },
  {
   "cell_type": "markdown",
   "metadata": {},
   "source": [
    "## Problem Statement 11:\n",
    "Two-tailed test for difference between two population means.  \n",
    "Is there evidence to conclude that the number of people travelling from Bangalore to Chennai is different from the number of people travelling from Bangalore to Hosur in\n",
    "a week, given the following:  \n",
    "Population 1: Bangalore to Chennai   \n",
    "n1 = 1200  \n",
    "x1 = 452  \n",
    "s1 = 212  \n",
    "Population 2: Bangalore to Hosur  \n",
    "n2 = 800  \n",
    "x2 = 523  \n",
    "s2 = 185"
   ]
  },
  {
   "cell_type": "markdown",
   "metadata": {},
   "source": [
    "- `Null Hypotheses` **H0:𝜇1-𝜇2 = 0**\n",
    "- `Alternate Hypotheses` **H1:𝜇1-𝜇2 ≠ 0**"
   ]
  },
  {
   "cell_type": "code",
   "execution_count": 66,
   "metadata": {},
   "outputs": [],
   "source": [
    "def ztest_with_independent_samples(mean1,mean2,s1,s2,n1,n2):\n",
    "    se = np.sqrt(s1**2/n1 + s2**2/n2)\n",
    "    print(\"Std Error: \",round(se,3))\n",
    "    z_value = (mean1-mean2)/se\n",
    "    return round(z_value,3)"
   ]
  },
  {
   "cell_type": "code",
   "execution_count": 67,
   "metadata": {},
   "outputs": [],
   "source": [
    "## Large Sample with Known Pop Std Dev\n",
    "n1 = 1200\n",
    "x1 = 452\n",
    "s1 = 212\n",
    "\n",
    "n2 = 800\n",
    "x2 = 523\n",
    "s2 = 185"
   ]
  },
  {
   "cell_type": "code",
   "execution_count": 69,
   "metadata": {},
   "outputs": [
    {
     "name": "stdout",
     "output_type": "stream",
     "text": [
      "Std Error:  8.957\n",
      "Z_Test: -7.926\n"
     ]
    }
   ],
   "source": [
    "z = ztest_with_independent_samples(x1,x2,s1,s2,n1,n2)\n",
    "print(\"Z_Test:\",z)"
   ]
  },
  {
   "cell_type": "code",
   "execution_count": 73,
   "metadata": {},
   "outputs": [
    {
     "data": {
      "text/plain": [
       "2.263175919910331e-15"
      ]
     },
     "execution_count": 73,
     "metadata": {},
     "output_type": "execute_result"
    }
   ],
   "source": [
    "p_value = stats.norm.sf(abs(z))*2\n",
    "p_value"
   ]
  },
  {
   "cell_type": "code",
   "execution_count": 79,
   "metadata": {},
   "outputs": [
    {
     "data": {
      "text/plain": [
       "'Null Hypotheses is Rejected'"
      ]
     },
     "execution_count": 79,
     "metadata": {},
     "output_type": "execute_result"
    }
   ],
   "source": [
    "alpha = 0.05\n",
    "hypotheses_decision_with_p_value(p_value,alpha)"
   ]
  },
  {
   "cell_type": "markdown",
   "metadata": {},
   "source": [
    "#### It means that number of people travelling from Bangalore to Chennai is different from the number of people travelling from Bangalore to Hosur in a week"
   ]
  },
  {
   "cell_type": "markdown",
   "metadata": {},
   "source": [
    "## Problem Statement 12:\n",
    "Is there evidence to conclude that the number of people preferring Duracell battery is different from the number of people preferring Energizer battery, given the following:  \n",
    "Population 1: Duracell  \n",
    "n1 = 100  \n",
    "x1 = 308  \n",
    "s1 = 84  \n",
    "Population 2: Energizer  \n",
    "n2 = 100  \n",
    "x2 = 254  \n",
    "s2 = 67  "
   ]
  },
  {
   "cell_type": "markdown",
   "metadata": {},
   "source": [
    "- `Null Hypotheses` **H0:𝜇1-𝜇2 = 0**\n",
    "- `Alternate Hypotheses` **H1:𝜇1-𝜇2 ≠ 0**"
   ]
  },
  {
   "cell_type": "code",
   "execution_count": 76,
   "metadata": {},
   "outputs": [],
   "source": [
    "n1 = 100\n",
    "x1 = 308\n",
    "s1 = 84\n",
    "\n",
    "n2 = 100\n",
    "x2 = 254\n",
    "s2 = 67"
   ]
  },
  {
   "cell_type": "code",
   "execution_count": 77,
   "metadata": {},
   "outputs": [
    {
     "name": "stdout",
     "output_type": "stream",
     "text": [
      "Std Error:  10.745\n",
      "Z Test:  5.026\n"
     ]
    }
   ],
   "source": [
    "z = ztest_with_independent_samples(x1,x2,s1,s2,n1,n2)\n",
    "print(\"Z Test: \",z)"
   ]
  },
  {
   "cell_type": "code",
   "execution_count": 78,
   "metadata": {},
   "outputs": [
    {
     "data": {
      "text/plain": [
       "5.00815885811081e-07"
      ]
     },
     "execution_count": 78,
     "metadata": {},
     "output_type": "execute_result"
    }
   ],
   "source": [
    "p_values = stats.norm.sf(abs(z))*2\n",
    "p_values"
   ]
  },
  {
   "cell_type": "code",
   "execution_count": 80,
   "metadata": {},
   "outputs": [
    {
     "data": {
      "text/plain": [
       "'Null Hypotheses is Rejected'"
      ]
     },
     "execution_count": 80,
     "metadata": {},
     "output_type": "execute_result"
    }
   ],
   "source": [
    "alpha = 0.05\n",
    "hypotheses_decision_with_p_value(p_values,alpha)"
   ]
  },
  {
   "cell_type": "markdown",
   "metadata": {},
   "source": [
    "#### It implies that number of people preferring Duracell battery is different from the number of people preferring Energizer battery"
   ]
  },
  {
   "cell_type": "markdown",
   "metadata": {},
   "source": [
    "## Problem Statement 13:\n",
    "Pooled estimate of the population variance  \n",
    "Does the data provide sufficient evidence to conclude that average percentage increase in the price of sugar differs when it is sold at two different prices?\n",
    "Population 1:   \n",
    "Price of sugar = Rs. 27.50  \n",
    "n1 = 14   \n",
    "x1 = 0.317%  \n",
    "s1 = 0.12%  \n",
    "Population 2:   \n",
    "Price of sugar = Rs. 20.00  \n",
    "n2 = 9  \n",
    "x2 = 0.21%  \n",
    "s2 = 0.11%  "
   ]
  },
  {
   "cell_type": "markdown",
   "metadata": {},
   "source": [
    "- `Null Hypotheses` **H0:𝜇1-𝜇2 = 0**\n",
    "- `Alternate Hypotheses` **H1:𝜇1-𝜇2 > 0**"
   ]
  },
  {
   "cell_type": "code",
   "execution_count": 122,
   "metadata": {},
   "outputs": [],
   "source": [
    "n1 = 14\n",
    "mean1 = 27.50\n",
    "x1 = 0.317\n",
    "s1 = 0.12\n",
    "\n",
    "n2 = 9\n",
    "mean2 = 20.00\n",
    "x2 = 0.21\n",
    "s2 = 0.11"
   ]
  },
  {
   "attachments": {
    "image.png": {
     "image/png": "[encoded data removed]"
    }
   },
   "cell_type": "markdown",
   "metadata": {},
   "source": [
    "![image.png](attachment:image.png)"
   ]
  },
  {
   "cell_type": "code",
   "execution_count": 123,
   "metadata": {},
   "outputs": [
    {
     "data": {
      "text/plain": [
       "298.9569"
      ]
     },
     "execution_count": 123,
     "metadata": {},
     "output_type": "execute_result"
    }
   ],
   "source": [
    "round(std_err,4)"
   ]
  },
  {
   "cell_type": "code",
   "execution_count": 124,
   "metadata": {},
   "outputs": [
    {
     "name": "stdout",
     "output_type": "stream",
     "text": [
      "Pooled Sample Variance:  0.0135\n",
      "--------------------\n",
      "Standard Error:  0.0497\n",
      "--------------------\n",
      "Margin of Error:  0.0855\n",
      "--------------------\n",
      "T Stats:  2.1529\n",
      "--------------------\n",
      "t_critical_score:  1.721\n",
      "--------------------\n"
     ]
    },
    {
     "data": {
      "text/plain": [
       "'Null Hypotheses is Rejected'"
      ]
     },
     "execution_count": 124,
     "metadata": {},
     "output_type": "execute_result"
    }
   ],
   "source": [
    "## Computing Pooled Sample Variance\n",
    "alpha = 0.05\n",
    "p = 1 - alpha ##One sided test\n",
    "df = n1 + n2 - 2\n",
    "pooled_var = (((n1 - 1)*s1**2) + ((n2 - 1)*s2**2))/ df\n",
    "print(\"Pooled Sample Variance: \",round(pooled_var,4))\n",
    "print('--------------------')\n",
    "std_err = np.sqrt(pooled_var/n1 + pooled_var/n2)\n",
    "print(\"Standard Error: \",round(std_err,4))\n",
    "print('--------------------')\n",
    "margin_of_err = stats.t.ppf(p,n1+n2-2)*std_err\n",
    "print(\"Margin of Error: \",round(margin_of_err,4))\n",
    "print('--------------------')\n",
    "t_stats = round((x1 - x2),4)/ round(std_err,4)\n",
    "print(\"T Stats: \",round(t_stats,4))\n",
    "print('--------------------')\n",
    "t_critical_score = stats.t.ppf(1-(alpha),df)\n",
    "print('t_critical_score: ',round(t_critical_score,3))\n",
    "print('--------------------')\n",
    "hypotheses_decision(t_stats,t_critical_score)"
   ]
  },
  {
   "cell_type": "markdown",
   "metadata": {},
   "source": [
    "**It infers that the data provided is sufficient enough that average price INCREASES**"
   ]
  },
  {
   "cell_type": "markdown",
   "metadata": {},
   "source": [
    "## Problem Statement 14:\n",
    "The manufacturers of compact disk players want to test whether a small price reduction is enough to increase sales of their product. Is there evidence that the small price reduction is enough to increase sales of compact disk players?  \n",
    "Population 1: Before reduction  \n",
    "n1 = 15  \n",
    "x1 = Rs. 6598   \n",
    "s1 = Rs. 844  \n",
    "Population 2: After reduction n2 = 12  \n",
    "x2 = RS. 6870  \n",
    "s2 = Rs. 669  "
   ]
  },
  {
   "cell_type": "markdown",
   "metadata": {},
   "source": [
    "- `Null Hypotheses` **H0:𝜇1-𝜇2 = 0**\n",
    "- `Alternate Hypotheses` **H1:𝜇1-𝜇2 > 0**"
   ]
  },
  {
   "cell_type": "code",
   "execution_count": 127,
   "metadata": {},
   "outputs": [],
   "source": [
    "n1 = 15\n",
    "x1 = 6598\n",
    "s1 = 844\n",
    "n2 = 12\n",
    "x2 = 6870\n",
    "s2 = 669"
   ]
  },
  {
   "cell_type": "code",
   "execution_count": 128,
   "metadata": {},
   "outputs": [
    {
     "name": "stdout",
     "output_type": "stream",
     "text": [
      "Pooled Sample Variance:  595835.0\n",
      "--------------------\n",
      "Standard Error:  298.9569\n",
      "--------------------\n",
      "Margin of Error:  510.6605\n",
      "--------------------\n",
      "T Stats:  -0.9098\n",
      "--------------------\n",
      "t_critical_score:  1.708\n",
      "--------------------\n"
     ]
    },
    {
     "data": {
      "text/plain": [
       "'Null Hypotheses is Accepted'"
      ]
     },
     "execution_count": 128,
     "metadata": {},
     "output_type": "execute_result"
    }
   ],
   "source": [
    "## Computing Pooled Sample Variance\n",
    "alpha = 0.05\n",
    "p = 1 - alpha ##One sided test\n",
    "df = n1 + n2 - 2\n",
    "pooled_var = (((n1 - 1)*s1**2) + ((n2 - 1)*s2**2))/ df\n",
    "print(\"Pooled Sample Variance: \",round(pooled_var,4))\n",
    "print('--------------------')\n",
    "std_err = np.sqrt(pooled_var/n1 + pooled_var/n2)\n",
    "print(\"Standard Error: \",round(std_err,4))\n",
    "print('--------------------')\n",
    "margin_of_err = stats.t.ppf(p,n1+n2-2)*std_err\n",
    "print(\"Margin of Error: \",round(margin_of_err,4))\n",
    "print('--------------------')\n",
    "t_stats = round((x1 - x2),4)/ round(std_err,4)\n",
    "print(\"T Stats: \",round(t_stats,4))\n",
    "print('--------------------')\n",
    "t_critical_score = stats.t.ppf(1-(alpha),df)\n",
    "print('t_critical_score: ',round(t_critical_score,3))\n",
    "print('--------------------')\n",
    "hypotheses_decision(t_stats,t_critical_score)"
   ]
  },
  {
   "cell_type": "markdown",
   "metadata": {},
   "source": [
    "**It infers that there is no evidence that the small price reduction is enough to increase sales of compact disk players**"
   ]
  },
  {
   "cell_type": "markdown",
   "metadata": {},
   "source": [
    "## Problem Statement 15:\n",
    "Comparisons of two population proportions when the hypothesized difference is zero.  \n",
    "Carry out a two-tailed test of the equality of banks’ share of the car loan market in 1980 and 1995.  \n",
    "Population 1: 1980  \n",
    "n1 = 1000  \n",
    "x1 = 53  \n",
    "𝑝1 = 0.53  \n",
    "Population 2: 1985  \n",
    "n2 = 100  \n",
    "x2 = 43  \n",
    "𝑝2= 0.53  "
   ]
  },
  {
   "cell_type": "markdown",
   "metadata": {},
   "source": [
    "- `Null Hypotheses` **H0:p1-p2 = 0**\n",
    "- `Alternate Hypotheses` **H1:p1-p2 ≠ 0**\n",
    "`where p is a population proprtion`"
   ]
  },
  {
   "attachments": {
    "image-2.png": {
     "image/png": "[encoded data removed]"
    },
    "image-3.png": {
     "image/png": "[encoded data removed]"
    }
   },
   "cell_type": "markdown",
   "metadata": {},
   "source": [
    "![image-3.png](attachment:image-3.png)\n",
    "![image-2.png](attachment:image-2.png)"
   ]
  },
  {
   "cell_type": "code",
   "execution_count": 133,
   "metadata": {},
   "outputs": [],
   "source": [
    "##Population 1: 1980\n",
    "n1 = 100\n",
    "x1 = 53\n",
    "𝑝1 = 0.53\n",
    "##Population 2: 1985\n",
    "n2 = 100\n",
    "x2 = 43\n",
    "𝑝2 = 0.43"
   ]
  },
  {
   "cell_type": "code",
   "execution_count": 136,
   "metadata": {},
   "outputs": [
    {
     "data": {
      "text/plain": [
       "0.004992"
      ]
     },
     "execution_count": 136,
     "metadata": {},
     "output_type": "execute_result"
    }
   ],
   "source": [
    "(p_hat*(1-p_hat)*(1/n1 + 1/n2))"
   ]
  },
  {
   "cell_type": "code",
   "execution_count": 143,
   "metadata": {},
   "outputs": [
    {
     "name": "stdout",
     "output_type": "stream",
     "text": [
      "Population Propotion:  0.48\n",
      "------------------\n",
      "Z_Test:  1.4153462926807452\n",
      "------------------\n",
      "Z_Critical:  1.645\n",
      "Even at 10% significance level, Null Hypotheses is NOT Rejected\n"
     ]
    },
    {
     "data": {
      "text/plain": [
       "'Null Hypotheses is Accepted'"
      ]
     },
     "execution_count": 143,
     "metadata": {},
     "output_type": "execute_result"
    }
   ],
   "source": [
    "alpha = 0.10\n",
    "p_hat = (x1 + x2) / (n1 + n2)\n",
    "print(\"Population Propotion: \",p_hat)\n",
    "z_test = (p1-p2)/np.sqrt(p_hat*(1-p_hat)*(1/n1 + 1/n2))\n",
    "print('------------------')\n",
    "print(\"Z_Test: \",z_test)\n",
    "print('------------------')\n",
    "z_critical = two_sided_z_test(alpha)\n",
    "print(\"Z_Critical: \",z_critical)\n",
    "print(\"Even at 10% significance level, Null Hypotheses is NOT Rejected\")\n",
    "hypotheses_decision(z_test,z_critical)\n"
   ]
  },
  {
   "cell_type": "markdown",
   "metadata": {},
   "source": [
    "## Problem Statement 16:\n",
    "Carry out a one-tailed test to determine whether the population proportion of traveler’s check buyers who buy at least $2500 in checks when sweepstakes prizes are offered as at least 10% higher than the proportion of such buyers when no\n",
    "sweepstakes are on.  \n",
    "Population 1: With sweepstakes  \n",
    "n1 = 300  \n",
    "x1 = 120  \n",
    "𝑝1 = 0.40  \n",
    "Population 2: No sweepstakes n2 = 700  \n",
    "x2 = 140  \n",
    "𝑝2= 0.20  "
   ]
  },
  {
   "attachments": {
    "image-2.png": {
     "image/png": "[encoded data removed]"
    },
    "image.png": {
     "image/png": "[encoded data removed]"
    }
   },
   "cell_type": "markdown",
   "metadata": {},
   "source": [
    "![image.png](attachment:image.png)\n",
    "![image-2.png](attachment:image-2.png)"
   ]
  },
  {
   "cell_type": "markdown",
   "metadata": {},
   "source": [
    "- `Null Hypotheses` **H0:p1-p2 <= 0.1**\n",
    "- `Alternate Hypotheses` **H1:p1-p2 > 0.1**\n",
    "`where p is a population proprtion`"
   ]
  },
  {
   "cell_type": "code",
   "execution_count": 144,
   "metadata": {},
   "outputs": [],
   "source": [
    "##Population 1: With sweepstakes\n",
    "n1 = 300\n",
    "x1 = 120\n",
    "𝑝1 = 0.40\n",
    "##Population 2: No sweepstakes \n",
    "n2 = 700\n",
    "x2 = 140\n",
    "𝑝2= 0.20"
   ]
  },
  {
   "cell_type": "code",
   "execution_count": 148,
   "metadata": {},
   "outputs": [
    {
     "name": "stdout",
     "output_type": "stream",
     "text": [
      "Population Propotion:  0.26\n",
      "------------------\n",
      "Z_Test:  3.1180478223116177\n",
      "------------------\n",
      "Z_Critical:  1.645\n",
      "------------------\n"
     ]
    },
    {
     "data": {
      "text/plain": [
       "'Null Hypotheses is Rejected'"
      ]
     },
     "execution_count": 148,
     "metadata": {},
     "output_type": "execute_result"
    }
   ],
   "source": [
    "alpha = 0.05\n",
    "d = 0.1 ## hypothese difference\n",
    "p_hat = (x1 + x2) / (n1 + n2)\n",
    "print(\"Population Propotion: \",p_hat)\n",
    "z_test = ((p1-p2) - d)/np.sqrt((p1*(1-p1)/n1) + (p2*(1-p2)/n2))\n",
    "print('------------------')\n",
    "print(\"Z_Test: \",z_test)\n",
    "print('------------------')\n",
    "z_critical = one_sided_z_test(alpha)\n",
    "print(\"Z_Critical: \",z_critical)\n",
    "print('------------------')\n",
    "hypotheses_decision(z_test,z_critical)"
   ]
  },
  {
   "cell_type": "markdown",
   "metadata": {},
   "source": [
    "## Problem Statement 17:\n",
    "A die is thrown 132 times with the following results:   \n",
    "Number turned up: 1, 2, 3, 4, 5, 6  \n",
    "Frequency: 16, 20, 25, 14, 29, 28  \n",
    "Is the die unbiased? Consider the degrees of freedom as 𝑝 − 1.  "
   ]
  },
  {
   "cell_type": "markdown",
   "metadata": {},
   "source": [
    "**Null Hypotheses H0 : The die is unbiased**  \n",
    "**Alternate Hypotheses H1 : The die is biased**"
   ]
  },
  {
   "cell_type": "code",
   "execution_count": 163,
   "metadata": {},
   "outputs": [],
   "source": [
    "def chi_test(observed,expected):\n",
    "    ##print(observed)\n",
    "    sum = 0\n",
    "    for i in observed:\n",
    "        sum += ((i - expected)**2) / expected\n",
    "    ##print(sum)\n",
    "    return sum"
   ]
  },
  {
   "cell_type": "code",
   "execution_count": 172,
   "metadata": {},
   "outputs": [],
   "source": [
    "def chi_critical(alpha,df):\n",
    "    chi_sq_crtical_value = stats.chi2.ppf(1- alpha,df)\n",
    "    return chi_sq_crtical_value"
   ]
  },
  {
   "cell_type": "code",
   "execution_count": 169,
   "metadata": {},
   "outputs": [
    {
     "name": "stdout",
     "output_type": "stream",
     "text": [
      "11.070497693516351\n",
      "0.95\n"
     ]
    }
   ],
   "source": [
    "chi_crtical_value = stats.chi2.ppf(1-.05,5)\n",
    "print(chi_crtical_value)\n",
    "print(stats.chi2.cdf(chi_crtical_value,5))"
   ]
  },
  {
   "cell_type": "code",
   "execution_count": 174,
   "metadata": {},
   "outputs": [
    {
     "name": "stdout",
     "output_type": "stream",
     "text": [
      "Expected Value:  22.0\n",
      "-------------\n",
      "Chi Square Test Value:  9.0\n",
      "-------------\n",
      "Chi Square Critical Value:  11.070497693516351\n",
      "-------------\n"
     ]
    },
    {
     "data": {
      "text/plain": [
       "'Null Hypotheses is Accepted'"
      ]
     },
     "execution_count": 174,
     "metadata": {},
     "output_type": "execute_result"
    }
   ],
   "source": [
    "f = np.array([16, 20, 25, 14, 29, 28])\n",
    "##print(f)\n",
    "df = 6 - 1\n",
    "alpha = 0.05\n",
    "expected_mean = 132/6\n",
    "print(\"Expected Value: \",expected_mean)\n",
    "print('-------------')\n",
    "print(\"Chi Square Test Value: \",chi_test(f,expected_mean))\n",
    "print('-------------')\n",
    "print(\"Chi Square Critical Value: \",chi_critical(alpha,df))\n",
    "print('-------------')\n",
    "hypotheses_decision(chi_test(f,expected_mean),chi_critical(alpha,df))"
   ]
  },
  {
   "cell_type": "markdown",
   "metadata": {},
   "source": [
    "**The die is Unbiased**"
   ]
  },
  {
   "cell_type": "code",
   "execution_count": null,
   "metadata": {},
   "outputs": [],
   "source": []
  }
 ],
 "metadata": {
  "kernelspec": {
   "display_name": "Python 3",
   "language": "python",
   "name": "python3"
  },
  "language_info": {
   "codemirror_mode": {
    "name": "ipython",
    "version": 3
   },
   "file_extension": ".py",
   "mimetype": "text/x-python",
   "name": "python",
   "nbconvert_exporter": "python",
   "pygments_lexer": "ipython3",
   "version": "3.8.5"
  }
 },
 "nbformat": 4,
 "nbformat_minor": 4
}
